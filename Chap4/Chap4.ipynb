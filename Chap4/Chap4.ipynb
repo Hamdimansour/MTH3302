{
 "cells": [
  {
   "cell_type": "markdown",
   "metadata": {},
   "source": [
    "# MTH3302 : Méthodes probabilistes et statistiques pour l'I.A.\n",
    "\n",
    "Jonathan Jalbert<br/>\n",
    "Professeur adjoint au Département de mathématiques et de génie industriel<br/>\n",
    "Polytechnique Montréal<br/>\n",
    "\n",
    "\n",
    "# Chapitre 4 - Analyse en composantes principales\n",
    "\n",
    "Ce calepin Jupyter accompage le Chapitre 4 des notes de cours.\n",
    "\n",
    "Chargeons d'abord les librairies nécessaires."
   ]
  },
  {
   "cell_type": "code",
   "execution_count": null,
   "metadata": {},
   "outputs": [],
   "source": [
    "# Chargement des librairies\n",
    "using CSV, DataFrames             # Pour charger et organiser les données\n",
    "using Gadfly                      # Pour générer des graphiques\n",
    "using LinearAlgebra               # Pour utiliser les fonctions d'algèbre linéaire\n",
    "using Statistics                  # Libriairie contenant des fonctions statistiques de base"
   ]
  },
  {
   "cell_type": "markdown",
   "metadata": {},
   "source": [
    "Afin de ne pas alourdir le calepin, un fichier de fonctions relatives à la standardisation des matrices est fourni. Le fichier *functions.jl* contient les fonctions suivantes :\n",
    "- standardize ;\n",
    "- standardize! .\n",
    "\n",
    "Le fichier être inclus à l'aide de la commande `include(\"functions.jl\")`. Pour avoir une description de ces fonctions, par exemple la fonction *roc_curve*, vous pouvez utiliser la commande `?roc_curve` dans une cellule de code vide."
   ]
  },
  {
   "cell_type": "code",
   "execution_count": null,
   "metadata": {},
   "outputs": [],
   "source": [
    "include(\"functions.jl\");"
   ]
  },
  {
   "cell_type": "markdown",
   "metadata": {},
   "source": [
    "# Exercice : Pourcentage de gras\n",
    "\n",
    "Reprenons l'exercice sur le lien entre le pourcentage de gras et trois différentes variables explicatives :\n",
    "- $x_1$ l'épaisseur du pli du triceps ;\n",
    "- $x_2$ le tour de cuisse ;\n",
    "- $x_3$ la circonférence du bras.\n",
    "\n",
    "Nous avions vu qu'il y avait un problème de multicolinéarité lorsque les trois variables étaient utilisées. Dans ce calepin, nous allons effectuer\n",
    "1. L'analyse en composantes principales des variables explicatives.\n",
    "2. La rérgession sur composantes principales.\n",
    "\n",
    "Chargeons d'abord les données."
   ]
  },
  {
   "cell_type": "code",
   "execution_count": null,
   "metadata": {},
   "outputs": [],
   "source": [
    "# Chargement des données\n",
    "data = CSV.read(\"bodyfat.csv\")"
   ]
  },
  {
   "cell_type": "markdown",
   "metadata": {},
   "source": [
    "## 1. Analyse en composantes principales\n",
    "\n",
    "- Standardisation des données.\n",
    "- Décomposition en valeurs singulières de la matrice standardisée."
   ]
  },
  {
   "cell_type": "code",
   "execution_count": null,
   "metadata": {},
   "outputs": [],
   "source": [
    "# Extraction de la matrice des variables explicatives du DataFrame\n",
    "X = convert(Matrix{Float64}, data[:,1:3])\n",
    "\n",
    "# Standardisation des colonnes de la matrice des variables explicatives\n",
    "Z = standardize(X)\n",
    "\n",
    "# Dimension de la matrice des variables explicatives\n",
    "n, p = size(Z)"
   ]
  },
  {
   "cell_type": "code",
   "execution_count": null,
   "metadata": {},
   "outputs": [],
   "source": [
    "# Calcul des valeurs singulières de la matrice Z\n",
    "γ = svdvals(Z)"
   ]
  },
  {
   "cell_type": "code",
   "execution_count": null,
   "metadata": {},
   "outputs": [],
   "source": [
    "df = DataFrame(k = Int64[], Variance = Float64[])\n",
    "\n",
    "cumvar = cumsum(γ.^2)\n",
    "\n",
    "for j=1:p\n",
    "    push!(df, [j, cumvar[j]/cumvar[end]])\n",
    "end\n",
    "\n",
    "df"
   ]
  },
  {
   "cell_type": "code",
   "execution_count": null,
   "metadata": {},
   "outputs": [],
   "source": [
    "plot(df, x=:k, y=:Variance, Geom.point, Geom.line, Guide.xlabel(\"Nombre de composantes\"),\n",
    "    Guide.ylabel(\"Variance retenue (%)\"))"
   ]
  },
  {
   "cell_type": "code",
   "execution_count": null,
   "metadata": {},
   "outputs": [],
   "source": [
    "# Décomposition en valeurs singulières de la matrice Z\n",
    "F = svd(Z)\n",
    "\n",
    "# Récupération des vecteus singuliers V\n",
    "V = collect(F.V)"
   ]
  },
  {
   "cell_type": "code",
   "execution_count": null,
   "metadata": {},
   "outputs": [],
   "source": [
    "# Calcul des composantes principales\n",
    "T = Z*V"
   ]
  },
  {
   "cell_type": "markdown",
   "metadata": {},
   "source": [
    "## Régression sur composantes principales\n",
    "\n",
    "- Estimation des coefficients de régression dans l'espace des composantes principales.\n",
    "- Transformation des estimation à l'espace de la matrice standardisée Z \n",
    "- Régression en utilisant la matrice Z mais en utilisant l'estimation obtenue avec les composantes principales"
   ]
  },
  {
   "cell_type": "code",
   "execution_count": null,
   "metadata": {},
   "outputs": [],
   "source": [
    "# Récupération de la variable d'intérêt\n",
    "y = data[:,:Bodyfat]\n",
    "\n",
    "# Standardisation des observations de la variable d'intérêt\n",
    "standardize!(y)\n",
    "\n",
    "# Régression dans l'espace des composantes principales\n",
    "η̂ = (T'T)\\T'y"
   ]
  },
  {
   "cell_type": "code",
   "execution_count": null,
   "metadata": {},
   "outputs": [],
   "source": [
    "# Transformation des coefficient de régression à l'espace de la matrice Z\n",
    "\n",
    "β̂ = V*η̂\n",
    "\n",
    "# On utilise toutes les variables explicatives sans se soucier de la multicolinéarité."
   ]
  },
  {
   "cell_type": "code",
   "execution_count": null,
   "metadata": {},
   "outputs": [],
   "source": [
    "# Régression\n",
    "ŷ = Z*β̂\n",
    "e = y - ŷ\n",
    "\n",
    "SST = sum(y.^2)\n",
    "SSE = sum(e.^2)\n",
    "R2 = 1 - SSE/SST\n"
   ]
  },
  {
   "cell_type": "code",
   "execution_count": null,
   "metadata": {},
   "outputs": [],
   "source": [
    "df = DataFrame( ŷ = ŷ, e=e )\n",
    "plot(df, x=:ŷ, y=:e, Geom.point)"
   ]
  },
  {
   "cell_type": "code",
   "execution_count": null,
   "metadata": {},
   "outputs": [],
   "source": []
  }
 ],
 "metadata": {
  "@webio": {
   "lastCommId": null,
   "lastKernelId": null
  },
  "kernelspec": {
   "display_name": "Julia 1.2.0",
   "language": "julia",
   "name": "julia-1.2"
  },
  "language_info": {
   "file_extension": ".jl",
   "mimetype": "application/julia",
   "name": "julia",
   "version": "1.2.0"
  }
 },
 "nbformat": 4,
 "nbformat_minor": 2
}
