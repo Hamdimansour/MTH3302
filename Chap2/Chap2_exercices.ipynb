{
 "cells": [
  {
   "cell_type": "markdown",
   "metadata": {},
   "source": [
    "# Exercices du chapitre 2\n",
    "\n",
    "Notez que les exercices 4 et 6 ont été faits en TD."
   ]
  },
  {
   "cell_type": "code",
   "execution_count": null,
   "metadata": {},
   "outputs": [],
   "source": [
    "using CSV, DataFrames, Gadfly, GLM, Distributions, LinearAlgebra"
   ]
  },
  {
   "cell_type": "markdown",
   "metadata": {},
   "source": [
    "# Exercice 3"
   ]
  },
  {
   "cell_type": "code",
   "execution_count": null,
   "metadata": {},
   "outputs": [],
   "source": [
    "# Chargement des données\n",
    "data = CSV.read(\"tuition_vs_salary.csv\")"
   ]
  },
  {
   "cell_type": "markdown",
   "metadata": {},
   "source": [
    "## 3 a) Illustration du salaire médian en mi-carrière en fonction des frais de scolarité"
   ]
  },
  {
   "cell_type": "code",
   "execution_count": null,
   "metadata": {},
   "outputs": [],
   "source": [
    "plot(data, x=:Tuition, y=:Salary, Geom.point)\n",
    "\n",
    "# Une relation linéaire semble raisonnable bien qu'il y ait des points \"extremes\""
   ]
  },
  {
   "cell_type": "markdown",
   "metadata": {},
   "source": [
    "## 3 b) Estimation des paramètres de la droite de régression"
   ]
  },
  {
   "cell_type": "code",
   "execution_count": null,
   "metadata": {},
   "outputs": [],
   "source": [
    "X₁ = convert(Array{Float64},data[:Tuition])\n",
    "Y = convert(Array{Float64},data[:Salary])\n",
    "n = length(Y)\n",
    "X = hcat(ones(n),X₁)\n",
    "p = size(X,2)-1\n",
    "\n",
    "# estimation des paramètres avec la forme matricielle\n",
    "β̂ = (X'*X)\\X'*Y\n",
    "\n",
    "println(\"β̂ = $β̂\")"
   ]
  },
  {
   "cell_type": "markdown",
   "metadata": {},
   "source": [
    "## 3 c) Calcul des résidus"
   ]
  },
  {
   "cell_type": "code",
   "execution_count": null,
   "metadata": {},
   "outputs": [],
   "source": [
    "# calcul des estimations\n",
    "Ŷ = X*β̂\n",
    "\n",
    "# calcul des résidus\n",
    "e = Y-Ŷ\n",
    "\n",
    "# stockage dans un dataframe pour un affichage facile\n",
    "df = DataFrame(Estimation = Ŷ, Residu = e)\n",
    "\n",
    "plot(df,x=:Estimation,y=:Residu, Geom.point)\n",
    "\n",
    "#= Les hypothèses 2 et 3 semblent raisonnables. Les résidus sont bien centrés autour de 0 et la variance \n",
    "sembe relativement constante =#"
   ]
  },
  {
   "cell_type": "markdown",
   "metadata": {},
   "source": [
    "## 3 d) Validation de l'hypothèse de normalité des résidus\n",
    "\n",
    "à ne pas faire pour l'instant"
   ]
  },
  {
   "cell_type": "markdown",
   "metadata": {},
   "source": [
    "## 3 e) Test de l'importance de la régression"
   ]
  },
  {
   "cell_type": "code",
   "execution_count": null,
   "metadata": {},
   "outputs": [],
   "source": [
    "SST = sum( (Y .- mean(Y) ).^2)\n",
    "SSE = sum( e.^2 )\n",
    "SSR = SST - SSE\n",
    "\n",
    "F₀ = (SSR/1) / (SSE/(n-1-1)) \n",
    "\n",
    "# On rejette H₀ au seuil de 5% si la valeur-p associé à F₀ est plus petite que 5%\n",
    "valeurp = ccdf(FDist(p,n-p-1),F₀)\n",
    "if valeurp<0.05\n",
    "    println(\"Comme la valeur-p = $valeurp<0.05, on rejette H_0. La régression est donc significative.\")\n",
    "else\n",
    "    println(\"Comme la valeur-p = $valeurp>0.05, on ne rejette pas H_0. La régression n'est donc pas significative.\")\n",
    "end"
   ]
  },
  {
   "cell_type": "markdown",
   "metadata": {},
   "source": [
    "## 3 f) Calcul du coefficient de détermination"
   ]
  },
  {
   "cell_type": "code",
   "execution_count": null,
   "metadata": {},
   "outputs": [],
   "source": [
    "R² = SSR/SST\n",
    "println(\"Le coefficient de détermination est $R²\")"
   ]
  },
  {
   "cell_type": "markdown",
   "metadata": {},
   "source": [
    "# Exercice 5"
   ]
  },
  {
   "cell_type": "code",
   "execution_count": null,
   "metadata": {},
   "outputs": [],
   "source": [
    "# Chargement des données\n",
    "data = CSV.read(\"notes.csv\")\n",
    "first(data,5)"
   ]
  },
  {
   "cell_type": "markdown",
   "metadata": {},
   "source": [
    "## 5 a) Estimation des coefficients du modèle de régression"
   ]
  },
  {
   "cell_type": "code",
   "execution_count": null,
   "metadata": {},
   "outputs": [],
   "source": [
    "# Extraction des données\n",
    "n = size(data,1)\n",
    "X₁ = convert(Array{Float64},data[:CP1])\n",
    "X₂ = convert(Array{Float64},data[:CP2])\n",
    "X₃ = ones(n)\n",
    "X₃[data[:Session].==\"A2017\"].=0\n",
    "Y =  convert(Array{Float64},data[:Final]);\n",
    "# Ici on encode la variable qualitative session par une variable indicatrice\n",
    "\n",
    "\n",
    "# Construction de la matrice de structure\n",
    "X = hcat(ones(n),X₁,X₂,X₃)\n",
    "\n",
    "# Estimation des paramètres\n",
    "β̂ = (X'*X)\\X'*Y\n",
    "\n",
    "println(\"β̂ = $β̂\")\n",
    "\n",
    "Ŷ = X*β̂\n",
    "e = Y .- Ŷ"
   ]
  },
  {
   "cell_type": "markdown",
   "metadata": {},
   "source": [
    "## 5 b) Validation des hypothèses 1 et 2 à l'aide des résidus"
   ]
  },
  {
   "cell_type": "code",
   "execution_count": null,
   "metadata": {},
   "outputs": [],
   "source": [
    "# Calcul des estimations\n",
    "Ŷ = X*β̂\n",
    "\n",
    "# Calcul des résidus\n",
    "e = Y - Ŷ\n",
    "\n",
    "# stockage dans un dataframe pour un affichage facile\n",
    "df = DataFrame(Estimation = Ŷ, Residu = e)\n",
    "\n",
    "plot(df,x=:Estimation,y=:Residu, Geom.point)\n",
    "\n",
    "#= Les hypothèses 2 et 3 semblent raisonnables. Les résidus sont bien centrés autour de 0 et la variance \n",
    "sembe relativement constante =#\n"
   ]
  },
  {
   "cell_type": "markdown",
   "metadata": {},
   "source": [
    "## 5 c) Estimation des intervalles de confiance à 95% des coefficients"
   ]
  },
  {
   "cell_type": "code",
   "execution_count": null,
   "metadata": {},
   "outputs": [],
   "source": [
    "# Estimation de la variance de l'erreur\n",
    "σ̂² = sum(e.^2)/(n-p-1)\n",
    "\n",
    "# Calcul de la matrice C\n",
    "C = inv(X'*X)\n",
    "\n",
    "# Calcul des intervalles de confiance\n",
    "IC = [β̂-sqrt.(σ̂²*diag(C))*quantile(TDist(n-p-1),.975) β̂-sqrt.(σ̂²*diag(C))*quantile(TDist(n-p-1),.025)]"
   ]
  },
  {
   "cell_type": "markdown",
   "metadata": {},
   "source": [
    "## 5 d) Y a-t-il des variables non siginificatives ?\n",
    "\n",
    "Aucun des intervalles de confiance ne contient la valeur 0. Donc toutes les variables sont significatives"
   ]
  },
  {
   "cell_type": "markdown",
   "metadata": {},
   "source": [
    "## 5 e) Prédiction de la note d'un étudiant"
   ]
  },
  {
   "cell_type": "code",
   "execution_count": null,
   "metadata": {},
   "outputs": [],
   "source": [
    "#= Vecteur de variables explicatives correspondant à un étudaint de l'hiver ayant obtenu 13 et 15\n",
    "aux intra 1 et 2 respectivement =#\n",
    "x₀ = [1.0 13.0 15.0 1.0]\n",
    "\n",
    "# Estimation de la note\n",
    "Ŷ₀ = x₀*β̂\n",
    "println(\"Ŷ₀ = $Ŷ₀\")\n",
    "\n",
    "# Intervalle de confiance à 95 %\n",
    "IC = [Ŷ₀-sqrt.(σ̂²*(1 .+ x₀/(X'*X)*x₀'))*quantile(TDist(n-p-1),.975) Ŷ₀-sqrt.(σ̂²*(1 .+ x₀/(X'*X)*x₀'))*quantile(TDist(n-p-1),.025)]\n",
    "\n",
    "println(\"IC = $IC\")\n"
   ]
  },
  {
   "cell_type": "markdown",
   "metadata": {},
   "source": [
    "# Exercice 7"
   ]
  },
  {
   "cell_type": "code",
   "execution_count": null,
   "metadata": {},
   "outputs": [],
   "source": [
    "# Chargement des données\n",
    "data = CSV.read(\"bloodpressure.csv\")\n",
    "first(data,5)"
   ]
  },
  {
   "cell_type": "code",
   "execution_count": null,
   "metadata": {},
   "outputs": [],
   "source": [
    "# Extraction des données\n",
    "\n",
    "Y = convert(Array{Float64},data[:BP])\n",
    "X₁ = convert(Array{Float64},data[:Age])\n",
    "X₂ = convert(Array{Float64},data[:Weight])\n",
    "X₃ = convert(Array{Float64},data[:BSA])\n",
    "X₄ = convert(Array{Float64},data[:Dur])\n",
    "X₅ = convert(Array{Float64},data[:Pulse])\n",
    "X₆ = convert(Array{Float64},data[:Stress])\n",
    "n = length(Y)\n",
    "\n",
    "X = hcat(ones(n),X₁,X₂,X₃,X₄,X₅,X₆)\n",
    "p = size(X,2)-1"
   ]
  },
  {
   "cell_type": "markdown",
   "metadata": {},
   "source": [
    "## 7 a) et b)\n",
    "\n",
    "À ne pas faire"
   ]
  },
  {
   "cell_type": "markdown",
   "metadata": {},
   "source": [
    "## 7 c) Calcul des valeurs propres"
   ]
  },
  {
   "cell_type": "code",
   "execution_count": null,
   "metadata": {},
   "outputs": [],
   "source": [
    "λ = eigvals(X'X)\n",
    "ϕ = sqrt.(maximum(λ)./λ)"
   ]
  },
  {
   "cell_type": "markdown",
   "metadata": {},
   "source": [
    "## 7 d) Indice de multicolinéarité"
   ]
  },
  {
   "cell_type": "code",
   "execution_count": null,
   "metadata": {},
   "outputs": [],
   "source": [
    "ϕ = sqrt.(maximum(λ)./λ)\n",
    "# Il y a multicolinéarité puisqu'au moins un phi est plus grand que 30."
   ]
  },
  {
   "cell_type": "code",
   "execution_count": null,
   "metadata": {},
   "outputs": [],
   "source": []
  }
 ],
 "metadata": {
  "kernelspec": {
   "display_name": "Julia 1.2.0",
   "language": "julia",
   "name": "julia-1.2"
  },
  "language_info": {
   "file_extension": ".jl",
   "mimetype": "application/julia",
   "name": "julia",
   "version": "1.2.0"
  }
 },
 "nbformat": 4,
 "nbformat_minor": 2
}
