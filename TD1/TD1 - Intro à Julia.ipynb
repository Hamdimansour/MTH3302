{
 "cells": [
  {
   "cell_type": "markdown",
   "metadata": {},
   "source": [
    "# MTH3302 : Méthodes probabilistes et statistiques pour l'I.A.\n",
    "\n",
    "Jonathan Jalbert<br/>\n",
    "Professeur adjoint au Département de mathématiques et de génie industriel<br/>\n",
    "Polytechnique Montréal<br/>\n",
    "\n",
    "\n",
    "# TD1 - Introduction à Julia\n",
    "\n",
    "Ce TD constitue une introduction au langage Julia et au calepin Jupyter. L'Exercice 1 a pour but d'introduire les commandes de base de Julia et de la librairie *Distributions* tandis que l'Exercice 2 a pour but d'introduire les DataFrames et la puissante librairie *Gadfly*, similaire à *ggplot2* en *R*, pour la production de graphiques."
   ]
  },
  {
   "cell_type": "markdown",
   "metadata": {},
   "source": [
    "# Exercice 1\n",
    "\n",
    "Dans cet exercice, nous nous intéressons au problèmes du nombre d'achats requis pour compléter une collection de $n$ items distincts où à chaque achat, la probabilité d'obtenir un item particulier est de $1/n$. En classe, nous avons considéré ce problème pour les 31 cartes des capitaines de la LNH contenues dans des boîtes de céréales.\n",
    "\n",
    "Voici les différentes étapes qui nous permettrons d'étudier le problème :\n",
    "\n",
    "1. Simulation du nombre d'essais requis pour obtenir la $i^e$ nouvel item de la collection.\n",
    "2. Simulation du nombre d'essais requis pour obtenir la collection complète.\n",
    "3. Affichage du nombre d'essais requis pour 10 000 essais afin d'obtenir la collection complète.\n",
    "4. Estimation de la moyenne du nombre d'essais requis pour obtenir la collection complète.\n",
    "5. Estimation de la probabilité que 100 essais soit suffisants pour obtenir la collection complète.\n",
    "\n",
    "Avant tout, chargeons les librairies requises."
   ]
  },
  {
   "cell_type": "code",
   "execution_count": null,
   "metadata": {},
   "outputs": [],
   "source": [
    "using Gadfly, Statistics, Distributions"
   ]
  },
  {
   "cell_type": "markdown",
   "metadata": {},
   "source": [
    "## 1. Simulation du nombre d'essais requis pour obtenir le $i^e$ nouvel item\n",
    "\n",
    "Une fois le code permettant de simuler le nombre d'essais requis pour obtenir la $i^e$ nouvelle carte, transformez-le en fonction nommée *ntrial* qui prend en argument $i$ et la taille de collection $n$."
   ]
  },
  {
   "cell_type": "code",
   "execution_count": null,
   "metadata": {},
   "outputs": [],
   "source": [
    "n = 31 # Nombre d'items distincs de la collections\n",
    "i = 15\n",
    "\n"
   ]
  },
  {
   "cell_type": "code",
   "execution_count": null,
   "metadata": {},
   "outputs": [],
   "source": [
    "function ntrial(i::Int,n::Int)\n",
    "   \n",
    "    # votre code\n",
    "    \n",
    "end"
   ]
  },
  {
   "cell_type": "markdown",
   "metadata": {},
   "source": [
    "## 2. Simulation du nombre d'achats requis pour obtenir la collection complète.\n",
    "\n",
    "Vous devez ici simuler un suite d'essais nécessaires pour obtenir la collection complète. Une fois votre code complété, transformez-le en fonction nommé *ntotal* qui prend en argument la taille de la collection."
   ]
  },
  {
   "cell_type": "code",
   "execution_count": null,
   "metadata": {},
   "outputs": [],
   "source": [
    "\n"
   ]
  },
  {
   "cell_type": "code",
   "execution_count": null,
   "metadata": {},
   "outputs": [],
   "source": [
    "function ntotal(n::Int)\n",
    "\n",
    "    # votre code\n",
    "    \n",
    "end"
   ]
  },
  {
   "cell_type": "markdown",
   "metadata": {},
   "source": [
    "## 3. Affichage du nombre d'essais requis pour 10 000 cas.\n",
    "\n",
    "Il faut avant tout simuler le nombre d'essais requis pour compléter la collection 10 000 fois. Par la suite, afficher le nombre d'essais requis avec un histogramme à 100 classes avec l'argument *Geom.histogram(bincount=100)* de la fonction *plot* de la librairie *Gadfly*."
   ]
  },
  {
   "cell_type": "code",
   "execution_count": null,
   "metadata": {},
   "outputs": [],
   "source": []
  },
  {
   "cell_type": "code",
   "execution_count": null,
   "metadata": {},
   "outputs": [],
   "source": []
  },
  {
   "cell_type": "markdown",
   "metadata": {},
   "source": [
    "## 4. Estimation de la moyenne du nombre d'essais requis pour obtenir la collection complète.\n",
    "\n",
    "À l'aide des 10 000 réalisations, calculez la moyenne empirique de nombre d'essais requis pour obtenir la collection complète de $n=31$ items. Comment elle se compare à la moyenne calculée en classe de 124 essais requis ?"
   ]
  },
  {
   "cell_type": "code",
   "execution_count": null,
   "metadata": {},
   "outputs": [],
   "source": []
  },
  {
   "cell_type": "markdown",
   "metadata": {},
   "source": [
    "## 5. Estimation de la probabilité que 100 essais soit suffisants pour obtenir la collection complète.\n",
    "\n",
    "Pour ce faire, calculez la proportion empirique des réalisations parmi les 10 000 simulées où 100 essais ou moins ont été suffisants pour compléter la collection."
   ]
  },
  {
   "cell_type": "code",
   "execution_count": null,
   "metadata": {},
   "outputs": [],
   "source": []
  },
  {
   "cell_type": "markdown",
   "metadata": {},
   "source": [
    "# Exercice 2\n",
    "\n",
    "Dans cet exercice, vous devrez charger les données météorologiques enregistrées à l'Aéroport Pierre-Elliot-Trudeau à Montréal et afficher les températures annuelles maximales. Les étapes sont les suivantes :\n",
    "\n",
    "1. Chargement du fichier de données.\n",
    "2. Récupération des années complètes uniquement.\n",
    "3. Extraction des températures annuelles maximales.\n",
    "4. Affichage des températures annuelles maximales en fonction des années.\n",
    "\n",
    "Avant tout, chargeons les librairies requises.\n"
   ]
  },
  {
   "cell_type": "code",
   "execution_count": null,
   "metadata": {},
   "outputs": [],
   "source": [
    "using DataFrames, CSV, Gadfly"
   ]
  },
  {
   "cell_type": "markdown",
   "metadata": {},
   "source": [
    "## 1. Chargement du fichier de données\n",
    "\n",
    "Le chargement du fichier de données se fait avec la fonction *CSV.read* de la librairie *CSV*. La variable de sortie sera un DataFrame."
   ]
  },
  {
   "cell_type": "code",
   "execution_count": null,
   "metadata": {},
   "outputs": [],
   "source": []
  },
  {
   "cell_type": "markdown",
   "metadata": {},
   "source": [
    "## 2. Récupération des années complètes\n",
    "\n",
    "Pour que les maxima annuels aient du sens, il faut qu'ils soient pris sur l'année complète. Par exemple, on ne veut pas récupérer le maximum annuel d'une année où l'été n'a pas été enregistré. Pour la station en question, il faut retirer les années 1941 et 2013."
   ]
  },
  {
   "cell_type": "code",
   "execution_count": null,
   "metadata": {},
   "outputs": [],
   "source": []
  },
  {
   "cell_type": "markdown",
   "metadata": {},
   "source": [
    "## 3.  Extraction des températures maximales annuelles\n",
    "\n",
    "Il y a plusieurs façons de procéder. Je vous propose d'utiliser la fonction *by()* de la librairie *DataFrame* pour manipuler aisément les données dans un DataFrame.\n",
    "\n",
    "Vous devrez également vous soucier des valeurs manquantes. Ici, je propose d'utiliser la fonction *skipmissing()* pour ignorer naïvement les valeurs manquantes."
   ]
  },
  {
   "cell_type": "code",
   "execution_count": null,
   "metadata": {},
   "outputs": [],
   "source": []
  },
  {
   "cell_type": "code",
   "execution_count": null,
   "metadata": {},
   "outputs": [],
   "source": []
  },
  {
   "cell_type": "markdown",
   "metadata": {},
   "source": [
    "## 4. Affichage des températures annuelles maximales en fonction des années.\n",
    "\n",
    "Lorsque les données à afficher sont dans un DataFrame, le traçage des graphiques est simple avec Gadfly. Il suffit de mentionner quelle colonne est le $x$ et quelle colonne est le $y$."
   ]
  },
  {
   "cell_type": "code",
   "execution_count": null,
   "metadata": {},
   "outputs": [],
   "source": []
  },
  {
   "cell_type": "code",
   "execution_count": null,
   "metadata": {},
   "outputs": [],
   "source": []
  }
 ],
 "metadata": {
  "@webio": {
   "lastCommId": null,
   "lastKernelId": null
  },
  "kernelspec": {
   "display_name": "Julia 1.2.0",
   "language": "julia",
   "name": "julia-1.2"
  },
  "language_info": {
   "file_extension": ".jl",
   "mimetype": "application/julia",
   "name": "julia",
   "version": "1.2.0"
  }
 },
 "nbformat": 4,
 "nbformat_minor": 2
}
