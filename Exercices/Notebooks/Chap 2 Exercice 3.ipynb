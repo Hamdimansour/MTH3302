{
 "cells": [
  {
   "cell_type": "markdown",
   "metadata": {},
   "source": [
    "# Tuition"
   ]
  },
  {
   "cell_type": "markdown",
   "metadata": {},
   "source": [
    "Aux États-Unis, décrocher un baccalauréat dans les meilleures universités peut coûter jusqu’à 300 000 USD. On veut savoir s’il existe un lien entre les frais de scolarité annuels et le salaire médian des diplômés en mi-carrière. Le jeu de données\n",
    "tuition_vs_salary.csv contient les frais de scolarité annuels de 12 université américaines choisie arbitrairement et les salaires annuels médians en mi-carrières des diplômés."
   ]
  },
  {
   "cell_type": "code",
   "execution_count": 12,
   "metadata": {},
   "outputs": [
    {
     "ename": "ErrorException",
     "evalue": "could not open file C:\\Users\\7amdi\\OneDrive - polymtl.ca\\A2019\\MTH3302\\MTH3302\\Exercices\\Chap3\\functions.jl",
     "output_type": "error",
     "traceback": [
      "could not open file C:\\Users\\7amdi\\OneDrive - polymtl.ca\\A2019\\MTH3302\\MTH3302\\Exercices\\Chap3\\functions.jl",
      "",
      "Stacktrace:",
      " [1] include at .\\boot.jl:328 [inlined]",
      " [2] include_relative(::Module, ::String) at .\\loading.jl:1094",
      " [3] include(::Module, ::String) at .\\Base.jl:31",
      " [4] include(::String) at .\\client.jl:431",
      " [5] top-level scope at In[12]:2"
     ]
    }
   ],
   "source": [
    "using CSV, DataFrames, Gadfly, GLM, Distributions, LinearAlgebra\n",
    "include(\"../Chap3/functions.jl\");\n"
   ]
  },
  {
   "cell_type": "code",
   "execution_count": null,
   "metadata": {},
   "outputs": [],
   "source": [
    "data = CSV.read(\"Train.csv\")\n",
    "first(data,5)"
   ]
  },
  {
   "cell_type": "markdown",
   "metadata": {},
   "source": [
    "a) Tracer le nuage de points entre les frais de scolarité (Tuition) et le revenu médian annuel des diplômés en mi-carrière (Salary). Est-ce qu’une relation linéaire semble raisonnable ?"
   ]
  },
  {
   "cell_type": "code",
   "execution_count": null,
   "metadata": {},
   "outputs": [],
   "source": []
  },
  {
   "cell_type": "markdown",
   "metadata": {},
   "source": [
    "b) Quelles sont les estimations ponctuelles obtenues par la méthode des moindres carrés des coefficients de régression ?"
   ]
  },
  {
   "cell_type": "code",
   "execution_count": null,
   "metadata": {},
   "outputs": [],
   "source": []
  },
  {
   "cell_type": "markdown",
   "metadata": {},
   "source": [
    "c) En vous basant sur les résidus de la régression, est-ce que les hypothèses 1 et 2 vous semblent raisonnables ?"
   ]
  },
  {
   "cell_type": "code",
   "execution_count": null,
   "metadata": {},
   "outputs": [],
   "source": []
  },
  {
   "cell_type": "markdown",
   "metadata": {},
   "source": [
    "d) En vous basant sur la droite de Henry des résidus, est-ce que l’hypothèse 4 de normalité semble raisonnable ?"
   ]
  },
  {
   "cell_type": "code",
   "execution_count": null,
   "metadata": {},
   "outputs": [],
   "source": []
  },
  {
   "cell_type": "markdown",
   "metadata": {},
   "source": [
    "e) Existe-t-il une relation linéaire significative entre les frais de scolarité et le salaire médian ? Justifiez."
   ]
  },
  {
   "cell_type": "code",
   "execution_count": null,
   "metadata": {},
   "outputs": [],
   "source": []
  },
  {
   "cell_type": "markdown",
   "metadata": {},
   "source": [
    "f) Quel est le coefficient de détermination de la régression ?"
   ]
  },
  {
   "cell_type": "code",
   "execution_count": null,
   "metadata": {},
   "outputs": [],
   "source": []
  },
  {
   "cell_type": "markdown",
   "metadata": {},
   "source": [
    "g) Est-ce que les réponses aux questions (e) et (f) sont incompatibles ?"
   ]
  },
  {
   "cell_type": "code",
   "execution_count": null,
   "metadata": {},
   "outputs": [],
   "source": []
  }
 ],
 "metadata": {
  "kernelspec": {
   "display_name": "Julia 1.2.0",
   "language": "julia",
   "name": "julia-1.2"
  },
  "language_info": {
   "file_extension": ".jl",
   "mimetype": "application/julia",
   "name": "julia",
   "version": "1.2.0"
  }
 },
 "nbformat": 4,
 "nbformat_minor": 2
}
