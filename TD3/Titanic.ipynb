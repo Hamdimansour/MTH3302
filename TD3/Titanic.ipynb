{
 "cells": [
  {
   "cell_type": "markdown",
   "metadata": {},
   "source": [
    "# MTH3302 : Méthodes probabilistes et statistiques pour l'I.A.\n",
    "\n",
    "Jonathan Jalbert<br/>\n",
    "Professeur adjoint au Département de mathématiques et de génie industriel<br/>\n",
    "Polytechnique Montréal<br/>\n",
    "\n",
    "## TD3 : Régression logistique pour prédire la survie des passagers du Titanic\n",
    "\n",
    "Pour ce concours, vous aurez accès aux caractéristiques des passagers du Titanic\n",
    "\n",
    "La liste des passagers a été scindé en deux groupes : un groupe d'entraînement (*Train.csv*) et un groupe de test (*Test.csv*). Les membres d'équipages sont ignorés. Le jeu de données d'entraînement doit être utilisé pour estimer les paramètres d'un modèle de régression logistique. Vous devrez trouver le meilleur modèle possible en faisant un choix judicieux des variables explicatives. Par la suite, votre modèle servira à prédire le sort des passagers de la liste de test.\n",
    "\n",
    "L'ensemble d'entraînement contient les informations de 872 passagers et leur sort (décès ou survie).\n",
    "\n",
    "L'ensemble de test contient seulement les informations de 437 passagers. Vous devez prédire pour chacun d'eux s'ils ont survécu ou non au naufrage.\n",
    "\n",
    "Avant d'exécuter ce code, vous devrez récupérer les informations sur les passagers du Titatnic déjà partitionnées en échantillon d'apprentissage et de test. Vous modèles pourront être entraînés sur les données *Train.csv* disponible sur la page GitHub du cours. Vos prédictions seront par la suite comparées au sort des passager de l'échantillon de test. Vous devrez déposer voter fichier de prédictions sur la [page Kaggle du TD3](https://www.kaggle.com/t/35b16b5d9e4149808d2a155b93fecd21).\n",
    "\n",
    "\n",
    "\n",
    "Dans ce code de base, on n'utilisera que la classe du passager pour prédire sont sort. **L'objectif de ce TD est d'améliorer le taux de bonnes prédictions en ajoutant des variables explicatives significatives.**\n",
    "\n",
    "\n",
    "### Sommaire:\n",
    "___\n",
    "\n",
    "1. **[Chargement des données de l'ensemble d'entraînement](#section_1)**   \n",
    "2. **[Analyse exploratoire](#section_2)**  \n",
    "3. **[Modèle de régression logistique](#section_3)**\n",
    "    1. Encodage de la variable classe à l'aide de deux variables indicatrices\n",
    "    2. Estimation des paramètres du modèle de régression logistique   \n",
    "4. **[Prédiction de la survie des passagers de l'ensemble de test](#section_4)**\n",
    "    1. Chargement des données de l'ensemble de test\n",
    "    2. Encoder la classe des passagers de l'ensemble de test avec deux variables indicatrices\n",
    "    3. Estimation de la probabilité de survie de chacun des passagers de l'ensemble de test\n",
    "    4. Prédiction de la survie des passagers de l'ensemble de test\n",
    "    5. Préparation du fichier des préditions pour téléverser sur Kaggle\n"
   ]
  },
  {
   "cell_type": "code",
   "execution_count": null,
   "metadata": {},
   "outputs": [],
   "source": [
    "# Chargement des librairies nécessaires\n",
    "\n",
    "using CSV, DataFrames, Gadfly, GLM, Distributions, LinearAlgebra"
   ]
  },
  {
   "cell_type": "markdown",
   "metadata": {},
   "source": [
    "<a id=\"section_1\"></a>\n",
    "### 1. Chargement et traitement des données\n"
   ]
  },
  {
   "cell_type": "code",
   "execution_count": null,
   "metadata": {},
   "outputs": [],
   "source": [
    "data = CSV.read(\"Train.csv\")\n",
    "first(data,5)"
   ]
  },
  {
   "cell_type": "markdown",
   "metadata": {},
   "source": [
    "<a id=\"section_2\"></a>\n",
    "### 2. Analyse exploratoire\n",
    "\n",
    "On souhaite vérifier s'il existe une relation entre la classe des passagers et leur taux de survie."
   ]
  },
  {
   "cell_type": "code",
   "execution_count": null,
   "metadata": {},
   "outputs": [],
   "source": [
    "df = by(data, :Pclass, df -> mean(df[:,:Survived]))\n",
    "rename!(df, :Pclass => :Classe, :x1 => :Taux_Survie)\n",
    "plot(df, x=:Classe, y=:Taux_Survie, Geom.point, Geom.hair)"
   ]
  },
  {
   "cell_type": "markdown",
   "metadata": {},
   "source": [
    "<a id=\"section_3\"></a>\n",
    "### 3. Modèle de régression logistique \n",
    "\n",
    "La classe des passagers est utilisée comme variable explicative de la probabilité de survie."
   ]
  },
  {
   "cell_type": "markdown",
   "metadata": {},
   "source": [
    "#### 3.1 Encodage de la variable classe à l'aide de deux variables indicatrices"
   ]
  },
  {
   "cell_type": "code",
   "execution_count": null,
   "metadata": {},
   "outputs": [],
   "source": [
    "# Deux variables indicatrices pour la classe des passagers\n",
    "\n",
    "Pclass = data[:,:Pclass]\n",
    "\n",
    "n = length(Pclass)\n",
    "x₁ = zeros(n)\n",
    "x₂ = zeros(n)\n",
    "\n",
    "for i = 1:n\n",
    "    if Pclass[i]==2\n",
    "        x₂[i] = 1\n",
    "    elseif Pclass[i]==1\n",
    "        x₁[i] = 1\n",
    "    end   \n",
    "end"
   ]
  },
  {
   "cell_type": "markdown",
   "metadata": {},
   "source": [
    "#### 3.2 Estimation des paramètres du modèle de régression logistique\n",
    "\n",
    "Le lien logit est utilisé."
   ]
  },
  {
   "cell_type": "code",
   "execution_count": null,
   "metadata": {},
   "outputs": [],
   "source": [
    "# On stocke les données dans un dataframe pour utiliser la package GLM de Julia\n",
    "df = DataFrame(x₁=x₁,x₂=x₂,Y=data[:,:Survived])\n",
    "\n",
    "M = glm(@formula(Y ~ x₁+x₂), df,  Bernoulli(), LogitLink())"
   ]
  },
  {
   "cell_type": "markdown",
   "metadata": {},
   "source": [
    "<a id=\"section_4\"></a>\n",
    "### 4. Prédiction de la survie des passagers de l'ensemble de test"
   ]
  },
  {
   "cell_type": "markdown",
   "metadata": {},
   "source": [
    "#### 4.1 Chargement des données de l'ensemble de test"
   ]
  },
  {
   "cell_type": "code",
   "execution_count": null,
   "metadata": {},
   "outputs": [],
   "source": [
    "# Charger le jeu de données de test\n",
    "test = CSV.read(\"Test.csv\");"
   ]
  },
  {
   "cell_type": "markdown",
   "metadata": {},
   "source": [
    "#### 4.2 Encoder la classe des passagers de l'ensemble de test avec deux variables indicatrices"
   ]
  },
  {
   "cell_type": "code",
   "execution_count": null,
   "metadata": {},
   "outputs": [],
   "source": [
    "# Encoder la classe de chacun des passagers de l'échantillon de test\n",
    "\n",
    "Pclass = test[:,:Pclass]\n",
    "n = length(Pclass)\n",
    "x̃₁ = zeros(n)\n",
    "x̃₂ = zeros(n)\n",
    "for i = 1:n\n",
    "    if Pclass[i]==2\n",
    "        x̃₂[i] = 1.0\n",
    "    elseif Pclass[i]==1\n",
    "        x̃₁[i] = 1.0\n",
    "    end   \n",
    "end\n",
    "\n",
    "X̃ = hcat(ones(Int64,n),x̃₁,x̃₂)"
   ]
  },
  {
   "cell_type": "markdown",
   "metadata": {},
   "source": [
    "#### 4.3 Estimation de la probabilité de survie de chacun des passagers de l'ensemble de test"
   ]
  },
  {
   "cell_type": "code",
   "execution_count": null,
   "metadata": {},
   "outputs": [],
   "source": [
    "θ̂ = predict(M, X̃)"
   ]
  },
  {
   "cell_type": "markdown",
   "metadata": {},
   "source": [
    "#### 4.4 Prédiction de la survie des passagers de l'ensemble de test"
   ]
  },
  {
   "cell_type": "code",
   "execution_count": null,
   "metadata": {},
   "outputs": [],
   "source": [
    "# Prédiction de la survie pour chacun des passagers de l'échantillon de test\n",
    "\n",
    "Ŷ = zeros(Int64,n)\n",
    "Ŷ[θ̂.>.5] .= 1;"
   ]
  },
  {
   "cell_type": "markdown",
   "metadata": {},
   "source": [
    "#### 4.5 Préparation du fichier des préditions pour téléverser sur Kaggle"
   ]
  },
  {
   "cell_type": "code",
   "execution_count": null,
   "metadata": {},
   "outputs": [],
   "source": [
    "# Enregistrement dans un fichier CSV pour soumission sur Kaggle\n",
    "# Première colonne : identifiant des passagers\n",
    "# Deuxième colonne : survie = 1, décès = 0 (nombres entiers)\n",
    "\n",
    "prediction = DataFrame(PassengerId = test[:,:PassengerId], Survived = Ŷ)\n",
    "CSV.write(\"benchmark_predictions.csv\",prediction)"
   ]
  },
  {
   "cell_type": "code",
   "execution_count": null,
   "metadata": {},
   "outputs": [],
   "source": []
  }
 ],
 "metadata": {
  "@webio": {
   "lastCommId": null,
   "lastKernelId": null
  },
  "kernelspec": {
   "display_name": "Julia 1.2.0",
   "language": "julia",
   "name": "julia-1.2"
  },
  "language_info": {
   "file_extension": ".jl",
   "mimetype": "application/julia",
   "name": "julia",
   "version": "1.2.0"
  }
 },
 "nbformat": 4,
 "nbformat_minor": 2
}
