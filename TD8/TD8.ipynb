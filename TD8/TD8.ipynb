{
 "cells": [
  {
   "cell_type": "markdown",
   "metadata": {},
   "source": [
    "\n",
    "# MTH3302 : Méthodes probabilistes et statistiques pour l'I.A.\n",
    "\n",
    "Jonathan Jalbert<br/>\n",
    "Professeur adjoint au Département de mathématiques et de génie industriel<br/>\n",
    "Polytechnique Montréal<br/>\n",
    "\n",
    "Ce TD a été développé avec l'aide précieuse de :\n",
    "- Sanae Lofti, candidate à la maîtrise,\n",
    "- Amine Bellahsen, candidat à la maîtrise.<br/>\n",
    "\n",
    "Tous les deux étaient inscrits au cours à l'automne 2018.\n",
    "\n",
    "---\n",
    "\n",
    "\n",
    "# TD 8 : Filtre anti-spam \n",
    "___\n",
    "\n",
    "### Description\n",
    "\n",
    "Dans ce travail dirigé, vous aurez l'occasion de développer un filtre anti-spam basé sur la classification bayésienne naïve. Que la présence ou l'absence de certains mots sera considérée comme variable explicative.\n",
    "\n",
    "### Données\n",
    "\n",
    "Les données exploitées dans ce TD correspondents à des messages électroniques authentiques d'un employé de la compagnie Enron. Vous pouvez télécharger le jeux de données à partir du site web du cours. Le fichier doit être décompressé dans un dossier nommé *data* du répertoire courant de votre calepin Jupyter. \n",
    "\n",
    "Notez que les messages électroniques de 158 employés de la compagnie Enron ont été récupérés par la Federal Energy Regulatory Commission pendant la commission d'enquête qui a eu lieu après l'effondrement de la compagnie. Dans ce TD, nous n'utilisons que les messages d'un seul employé. Vous pouvez récupérer le jeu de données entier à l'adresse suivante https://www.cs.cmu.edu/~./enron/enron_mail_20150507.tar.gz.\n",
    "\n",
    "\n",
    "\n",
    "### Sommaire:\n",
    "___\n",
    "\n",
    "\n",
    "[Préliminaires](#unit0)  \n",
    "[Exercice 1](#unit1)  \n",
    "[Exercice 2](#unit2)  \n",
    "[Exercice 3](#unit3)  \n"
   ]
  },
  {
   "cell_type": "code",
   "execution_count": 1,
   "metadata": {},
   "outputs": [],
   "source": [
    "using StatsBase, Statistics, DataFrames"
   ]
  },
  {
   "cell_type": "markdown",
   "metadata": {},
   "source": [
    "# Préliminaires  <a id = \"unit0\" > </a > \n",
    "\n",
    "\n",
    "Les codes de cette section permettent de traiter les fichiers textes correspondant aux messages électroniques avant de pouvoir répondre aux questions."
   ]
  },
  {
   "cell_type": "markdown",
   "metadata": {},
   "source": [
    "### Construction des ensembles d'entraînement et de test\n",
    "\n",
    "Les messages électroniques de l'utilisateur nommé *Enron1* sont répartis dans un dossier *ham* et un dossier *spam*. La cellule de code permet d'extraire aléatoirement des courriels et des pourriels pour l'ensemble d'entraînement. On prend le $2/3$ des messages pour constituer l'échantillon d'entraînement.\n",
    "\n",
    "Le dictionnaire ``TrainSet`` contient deux champs :\n",
    "- *:Ham* qui contient la liste des fichiers textes correspondants aux courriels de l'ensemble d'entraînement. \n",
    "- *:Spam* qui contient la liste des fichiers textes correspondants aux pourriels de l'ensemble d'entraînement.\n",
    "\n",
    "Le dictionnaire ``TestSet`` contient les mêmes deux champs mais pour l'ensemble de test."
   ]
  },
  {
   "cell_type": "code",
   "execution_count": 2,
   "metadata": {},
   "outputs": [
    {
     "data": {
      "text/plain": [
       "Dict{Symbol,Array{String,1}} with 2 entries:\n",
       "  :Ham  => [\"../Exercices/Ressources/enron1/ham/0001.1999-12-10.farmer.ham.txt\"…\n",
       "  :Spam => [\"../Exercices/Ressources/enron1/spam/0018.2003-12-18.GP.spam.txt\", …"
      ]
     },
     "execution_count": 2,
     "metadata": {},
     "output_type": "execute_result"
    }
   ],
   "source": [
    "# Récupération des noms de fichier de tous les hams\n",
    "filesdir = \"../Exercices/Ressources/enron1/ham/\"\n",
    "filename_ham = filesdir.*readdir(filesdir)\n",
    "\n",
    "# Récupération des noms de fichier de tous les spams\n",
    "filesdir = \"../Exercices/Ressources/enron1/spam/\"\n",
    "filename_spam = filesdir.*readdir(filesdir)\n",
    "\n",
    "# nombre de fichiers pour contruire l'ensemble d'entraînement des hams\n",
    "n = Int(round(2/3*length(filename_ham)))\n",
    "\n",
    "# sélection aléatoire des fichiers de l'ensemble d'entraînement\n",
    "ham_train = Array{String}(undef,n)\n",
    "sample!(filename_ham, ham_train, replace=false, ordered=false)\n",
    "ham_test = setdiff(filename_ham, ham_train)\n",
    "\n",
    "\n",
    "# nombre de fichiers pour contruire l'ensemble d'entraînement des spams\n",
    "n = Int(round(2/3*length(filename_spam)))\n",
    "\n",
    "# sélection aléatoire des fichiers de l'ensemble d'entraînement\n",
    "spam_train = Array{String}(undef,n)\n",
    "sample!(filename_spam, spam_train, replace=false, ordered=false)\n",
    "spam_test = setdiff(filename_spam, spam_train)\n",
    "\n",
    "\n",
    "# Sauvegarder les ensembles d'entraînement et de test dans des dictionnaires\n",
    "TrainSet = Dict( :Ham => ham_train, :Spam => spam_train)\n",
    "TestSet = Dict( :Ham => ham_test, :Spam => spam_test)\n"
   ]
  },
  {
   "cell_type": "markdown",
   "metadata": {},
   "source": [
    "## Dénombrement des mots contenus dans les courriels\n",
    "\n",
    "Cette cellule permet de dénombrer le nombre de courriels où chaque mot est présent. Le dictionnaire ``ham_wordcounts`` indique le nombre de courriels dans lesquels cahque mot apparaît.\n",
    "\n",
    "La fonction *wordlisting* prend en entrée le chemin d'accès d'un fichier texte et sort la liste de mots présents du fichier. Si un mot apparaît plus d'une fois dans le fichier, la fonction ne sort que la présence de ce mot, pas la quantité de fois où il apparaît.\n",
    "\n",
    "La fonction *wordcounting* prend en entrée une matrice de liste de mots. La fonction dénombre le nombre de lignes où le mot apparaît."
   ]
  },
  {
   "cell_type": "code",
   "execution_count": 3,
   "metadata": {},
   "outputs": [
    {
     "data": {
      "text/plain": [
       "wordcounting"
      ]
     },
     "execution_count": 3,
     "metadata": {},
     "output_type": "execute_result"
    }
   ],
   "source": [
    "\"\"\"\n",
    "wordlisting : Cette fonction transforme un fichier texte en une liste de mots. Le nombre de fois que\n",
    "              les mots apparaîssent ne sont pas répertorié.\n",
    "Input: filename::String le chemin du fichier texte \n",
    "Output: Array{Sting} Liste des mots contenus dans le fichier texte\n",
    "\"\"\"\n",
    "function wordlisting(filename::String)\n",
    "    \n",
    "    f = read(filename, String)\n",
    "    text = replace(f, r\"[0123456789]\" => \"\")\n",
    "    words = split(text, r\"\\W+\")\n",
    "    filter!(x -> length(x) > 1, words)\n",
    "    wordlist = unique(words)\n",
    "    \n",
    "end\n",
    "\n",
    "\"\"\"\n",
    "wordcounting : À partir d'un Array of Array contenant la liste des mots d'un ensemble de fichiers texte, la fonction \n",
    "               retourne le nombre de fois où chaque mot est présent.\n",
    "Input: Un array correspondant à la liste des mots pour chacun des fichiers texte \n",
    "Output: Dictionnaire compilant le nombre de ligne dans lesquelles chacun des mots apparaît.\n",
    "\"\"\"\n",
    "function wordcounting(A::Array{Array{SubString{String},1},1})\n",
    "   \n",
    "    words = vcat(A...)\n",
    "\n",
    "    wordcounts = Dict{String,Int64}()\n",
    "\n",
    "    for word in words\n",
    "        wordcounts[word]=get(wordcounts, word, 0) + 1\n",
    "    end\n",
    "    \n",
    "    return wordcounts\n",
    "    \n",
    "end"
   ]
  },
  {
   "cell_type": "code",
   "execution_count": 4,
   "metadata": {},
   "outputs": [
    {
     "data": {
      "text/plain": [
       "Dict{String,Int64} with 12895 entries:\n",
       "  \"improvemnts\" => 1\n",
       "  \"corbally\"    => 1\n",
       "  \"henry\"       => 5\n",
       "  \"gerdman\"     => 1\n",
       "  \"rises\"       => 1\n",
       "  \"hampshire\"   => 4\n",
       "  \"tnpc\"        => 1\n",
       "  \"progression\" => 1\n",
       "  \"rhonda\"      => 8\n",
       "  \"msnbc\"       => 1\n",
       "  \"gathered\"    => 3\n",
       "  \"aldano\"      => 1\n",
       "  \"acton\"       => 67\n",
       "  \"underground\" => 1\n",
       "  \"november\"    => 107\n",
       "  \"backup\"      => 4\n",
       "  \"caught\"      => 1\n",
       "  \"stress\"      => 2\n",
       "  \"rectified\"   => 1\n",
       "  \"annals\"      => 1\n",
       "  \"premature\"   => 1\n",
       "  \"fountain\"    => 1\n",
       "  \"hicks\"       => 1\n",
       "  \"package\"     => 22\n",
       "  \"qnec\"        => 1\n",
       "  ⋮             => ⋮"
      ]
     },
     "execution_count": 4,
     "metadata": {},
     "output_type": "execute_result"
    }
   ],
   "source": [
    "ham_wordlist = wordlisting.(TrainSet[:Ham])\n",
    "ham_wordcounts = wordcounting(ham_wordlist)"
   ]
  },
  {
   "cell_type": "markdown",
   "metadata": {},
   "source": [
    "## Dénombrement des mots contenus dans les pourriels\n",
    "\n",
    "Cette cellule permet de dénombrer le nombre de courriels où chaque mot est présent. Le dictionnaire ``spam_wordcounts`` indique le nombre de courriels dans lesquels cahque mot apparaît.\n",
    "\n",
    "Les fonctions *wordlisting* et *wordcounting* sont utilisées."
   ]
  },
  {
   "cell_type": "code",
   "execution_count": 5,
   "metadata": {},
   "outputs": [
    {
     "data": {
      "text/plain": [
       "Dict{String,Int64} with 30555 entries:\n",
       "  \"oblique\"        => 1\n",
       "  \"rpiebkwgu\"      => 1\n",
       "  \"eowrsmi\"        => 1\n",
       "  \"vvmiaml\"        => 1\n",
       "  \"null\"           => 2\n",
       "  \"grp\"            => 2\n",
       "  \"staphylococcus\" => 1\n",
       "  \"ucewn\"          => 1\n",
       "  \"duma\"           => 1\n",
       "  \"inattentive\"    => 1\n",
       "  \"bumbum\"         => 1\n",
       "  \"melons\"         => 1\n",
       "  \"henry\"          => 2\n",
       "  \"partl\"          => 2\n",
       "  \"aslpp\"          => 1\n",
       "  \"anaerobic\"      => 1\n",
       "  \"corrodible\"     => 2\n",
       "  \"hampshire\"      => 1\n",
       "  \"youlaagan\"      => 1\n",
       "  \"brandt\"         => 1\n",
       "  \"maggotadvances\" => 1\n",
       "  \"vrmtk\"          => 1\n",
       "  \"rhonda\"         => 2\n",
       "  \"il\"             => 9\n",
       "  \"gathered\"       => 16\n",
       "  ⋮                => ⋮"
      ]
     },
     "execution_count": 5,
     "metadata": {},
     "output_type": "execute_result"
    }
   ],
   "source": [
    "spam_wordlist = wordlisting.(TrainSet[:Spam])\n",
    "spam_wordcounts = wordcounting(spam_wordlist)"
   ]
  },
  {
   "cell_type": "markdown",
   "metadata": {},
   "source": [
    "# Exercice 1 <a id = \"unit1\" > </a > \n",
    "\n",
    "Considérez le mot ***http*** comme variable explicative pour classer les messages électroniques en courriels et pourriels."
   ]
  },
  {
   "cell_type": "markdown",
   "metadata": {},
   "source": [
    "### a) Si un message contient le mot ***http***, quelle est la probabilité que ce message soit un pourriel ?"
   ]
  },
  {
   "cell_type": "code",
   "execution_count": 6,
   "metadata": {},
   "outputs": [
    {
     "data": {
      "text/plain": [
       "3448"
      ]
     },
     "execution_count": 6,
     "metadata": {},
     "output_type": "execute_result"
    }
   ],
   "source": [
    "n01 = spam_wordcounts[\"http\"]\n",
    "n11 = ham_wordcounts[\"http\"]\n",
    "n₀ = size(TrainSet[:Spam], 1)\n",
    "n₁ = size(TrainSet[:Ham], 1)\n",
    "n = n₀ + n₁"
   ]
  },
  {
   "cell_type": "code",
   "execution_count": 7,
   "metadata": {},
   "outputs": [
    {
     "data": {
      "text/plain": [
       "0.7691259734542166"
      ]
     },
     "execution_count": 7,
     "metadata": {},
     "output_type": "execute_result"
    }
   ],
   "source": [
    "q_spam = (n01 + 1)*(n₀ + 1)/((n₀ + 2)*(n +2))\n",
    "q_ham = (n11 + 1)*(n₁ + 1)/((n₁ + 2)*(n +2))\n",
    "c = q_spam + q_ham\n",
    "\n",
    "q_spam/c"
   ]
  },
  {
   "cell_type": "markdown",
   "metadata": {},
   "source": [
    "### b) Si un message ne contient pas le mot ***http***, quelle est la probabilité que ce message soit un pourriel ?"
   ]
  },
  {
   "cell_type": "code",
   "execution_count": 8,
   "metadata": {},
   "outputs": [
    {
     "data": {
      "text/plain": [
       "0.22453488972525706"
      ]
     },
     "execution_count": 8,
     "metadata": {},
     "output_type": "execute_result"
    }
   ],
   "source": [
    "q_spam = (n₀ - n01 + 1)*(n₀ + 1)/((n₀ + 2)*(n +2))\n",
    "q_ham = (n₁ - n11 + 1)*(n₁ + 1)/((n₁ + 2)*(n +2))\n",
    "\n",
    "c = q_spam + q_ham\n",
    "\n",
    "q_spam/c"
   ]
  },
  {
   "cell_type": "markdown",
   "metadata": {},
   "source": [
    "### c) Filtrez tous les courriels de l'échantillon de test. Quelle est la proportion de courriels classés comme pourriels?"
   ]
  },
  {
   "cell_type": "code",
   "execution_count": 9,
   "metadata": {},
   "outputs": [],
   "source": [
    "nb_ham_test = size(TestSet[:Ham],1)\n",
    "nb_pourriels = 0\n",
    "for i in 1:nb_ham_test\n",
    "    X = any(wordlisting(TestSet[:Ham][i]) .== \"http\")\n",
    "    if X\n",
    "        nb_pourriels = nb_pourriels + 1\n",
    "    end\n",
    "end"
   ]
  },
  {
   "cell_type": "code",
   "execution_count": 10,
   "metadata": {},
   "outputs": [
    {
     "data": {
      "text/plain": [
       "40"
      ]
     },
     "execution_count": 10,
     "metadata": {},
     "output_type": "execute_result"
    }
   ],
   "source": [
    "nb_pourriels"
   ]
  },
  {
   "cell_type": "markdown",
   "metadata": {},
   "source": [
    "### d) Filtrez tous les pourriels de l'échantillon de test. Quelle est la proportion de pourriels classés comme pourriels?"
   ]
  },
  {
   "cell_type": "code",
   "execution_count": 11,
   "metadata": {},
   "outputs": [
    {
     "data": {
      "text/plain": [
       "0.312"
      ]
     },
     "execution_count": 11,
     "metadata": {},
     "output_type": "execute_result"
    }
   ],
   "source": [
    "nb_spam_test = size(TestSet[:Spam],1)\n",
    "nb_pourriels = 0\n",
    "for i in 1:nb_spam_test\n",
    "    X = count(wordlisting(TestSet[:Spam][i]) .== \"http\") > 0\n",
    "    if X\n",
    "        nb_pourriels = nb_pourriels + 1\n",
    "    end\n",
    "end\n",
    "nb_pourriels/nb_spam_test"
   ]
  },
  {
   "cell_type": "markdown",
   "metadata": {},
   "source": [
    "# Exercice 2 <a id = \"unit2\" > </a > \n",
    "\n",
    "Considérez les mots ***http*** et ***enron*** comme variables explicatives pour classer les messages électroniques en courriels et pourriels."
   ]
  },
  {
   "cell_type": "code",
   "execution_count": 30,
   "metadata": {},
   "outputs": [
    {
     "data": {
      "text/plain": [
       "4×2 Array{Any,2}:\n",
       " Bool[0, 0]  false\n",
       " Bool[0, 1]  false\n",
       " Bool[1, 0]  false\n",
       " Bool[1, 1]  false"
      ]
     },
     "execution_count": 30,
     "metadata": {},
     "output_type": "execute_result"
    }
   ],
   "source": [
    "function modelid(M::Array{Any,2},γ)\n",
    "    \n",
    "    @assert length(γ)==length(M[1])\n",
    "    \n",
    "    ind = 1\n",
    "    \n",
    "    while M[ind] != γ\n",
    "        ind +=1\n",
    "    end\n",
    "    \n",
    "    return M[ind, 2]\n",
    "        \n",
    "end\n",
    "\n",
    "# Énumration de tous les modèles possibles\n",
    "p = 2\n",
    "itr = reverse.(Iterators.product(fill(0:1,p)...))[:]\n",
    "\n",
    "M = BitArray[]\n",
    "for i in eachindex(itr)\n",
    "   push!(M, [itr[i]...] .== 1)\n",
    "end\n",
    "prop_ham = [M BitArray(undef, 4,1)]"
   ]
  },
  {
   "cell_type": "code",
   "execution_count": 33,
   "metadata": {},
   "outputs": [
    {
     "data": {
      "text/plain": [
       "false"
      ]
     },
     "execution_count": 33,
     "metadata": {},
     "output_type": "execute_result"
    }
   ],
   "source": [
    "modelid(prop, [1,1])"
   ]
  },
  {
   "cell_type": "markdown",
   "metadata": {},
   "source": [
    "### a) Si un message contient les mots ***http*** et ***enron***, quelle est la probabilité que ce message soit un pourriel ?"
   ]
  },
  {
   "cell_type": "code",
   "execution_count": 14,
   "metadata": {},
   "outputs": [
    {
     "data": {
      "text/plain": [
       "975"
      ]
     },
     "execution_count": 14,
     "metadata": {},
     "output_type": "execute_result"
    }
   ],
   "source": [
    "n02 = in(\"enron\", keys(spam_wordcounts)) ? spam_wordcounts[\"enron\"] : 0\n",
    "n12= ham_wordcounts[\"enron\"]"
   ]
  },
  {
   "cell_type": "code",
   "execution_count": 57,
   "metadata": {},
   "outputs": [
    {
     "data": {
      "text/plain": [
       "0.00827678029918685"
      ]
     },
     "execution_count": 57,
     "metadata": {},
     "output_type": "execute_result"
    }
   ],
   "source": [
    "q_spam = (n01 + 1)*(n02+1)*(n₀ + 1)/((n₀ + 2)^2*(n+2))\n",
    "q_ham = (n11 + 1)*(n12+1)*(n₁ + 1)/((n₁ + 2)^2*(n+2))\n",
    "c = q_spam + q_ham\n",
    "q_spam/c"
   ]
  },
  {
   "cell_type": "markdown",
   "metadata": {},
   "source": [
    "### b) Si un message ne contient pas les mots ***http*** et ***enron***, quelle est la probabilité que ce message soit un pourriel ?"
   ]
  },
  {
   "cell_type": "code",
   "execution_count": 37,
   "metadata": {},
   "outputs": [
    {
     "data": {
      "text/plain": [
       "true"
      ]
     },
     "execution_count": 37,
     "metadata": {},
     "output_type": "execute_result"
    }
   ],
   "source": [
    "q_spam = (n₀ - n01 + 1)*(n₀ - n02+1)*(n₀ + 1)/((n₀ + 2)^2*(n+2))\n",
    "q_ham = (n₁ - n11 + 1)*(n₁ - n12+1)*(n₁ + 1)/((n₁ + 2)^2*(n+2))\n",
    "c = q_spam + q_ham\n",
    "prop[1,2] = q_spam/c < .5"
   ]
  },
  {
   "cell_type": "markdown",
   "metadata": {},
   "source": [
    "### c) Si un message contient le mot ***http*** mais ne contient pas le mot ***enron***, quelle est la probabilité que ce message soit un pourriel ?"
   ]
  },
  {
   "cell_type": "code",
   "execution_count": 38,
   "metadata": {},
   "outputs": [
    {
     "data": {
      "text/plain": [
       "false"
      ]
     },
     "execution_count": 38,
     "metadata": {},
     "output_type": "execute_result"
    }
   ],
   "source": [
    "q_spam = (n01 + 1)*(n₀ - n02+1)*(n₀ + 1)/((n₀ + 2)^2*(n+2))\n",
    "q_ham = (n11 + 1)*(n₁ - n12+1)*(n₁ + 1)/((n₁ + 2)^2*(n+2))\n",
    "c = q_spam + q_ham\n",
    "prop[3,2] = q_spam/c < .5"
   ]
  },
  {
   "cell_type": "markdown",
   "metadata": {},
   "source": [
    "### d) Si un message ne contient pas le mot ***http*** mais contient le mot ***enron***, quelle est la probabilité que ce message soit un pourriel ?"
   ]
  },
  {
   "cell_type": "code",
   "execution_count": 39,
   "metadata": {},
   "outputs": [
    {
     "data": {
      "text/plain": [
       "true"
      ]
     },
     "execution_count": 39,
     "metadata": {},
     "output_type": "execute_result"
    }
   ],
   "source": [
    "q_spam = (n₀ - n01 + 1)*(n02+1)*(n₀ + 1)/((n₀ + 2)^2*(n+2))\n",
    "q_ham = (n₁ - n11 + 1)*(n12+1)*(n₁ + 1)/((n₁ + 2)^2*(n+2))\n",
    "c = q_spam + q_ham\n",
    "prop[2,2] = q_spam/c < .5"
   ]
  },
  {
   "cell_type": "markdown",
   "metadata": {},
   "source": [
    "### e) Filtrez tous les courriels de l'échantillon de test. Quelle est la proportion de courriels classés comme pourriels ?"
   ]
  },
  {
   "cell_type": "code",
   "execution_count": 42,
   "metadata": {},
   "outputs": [
    {
     "data": {
      "text/plain": [
       "0.01715686274509804"
      ]
     },
     "execution_count": 42,
     "metadata": {},
     "output_type": "execute_result"
    }
   ],
   "source": [
    "nb_ham_test = size(TestSet[:Ham],1)\n",
    "nb_pourriels = 0\n",
    "for i in 1:nb_ham_test\n",
    "    X = [0,0]\n",
    "    X[1] = any(wordlisting(TestSet[:Ham][i]) .== \"http\")\n",
    "    X[2] = any(wordlisting(TestSet[:Ham][i]) .== \"enron\")\n",
    "    if !modelid(prop, X)\n",
    "        nb_pourriels = nb_pourriels + 1\n",
    "    end\n",
    "end\n",
    "nb_pourriels/nb_ham_test"
   ]
  },
  {
   "cell_type": "markdown",
   "metadata": {},
   "source": [
    "### f) Filtrez tous les pourriels de l'échantillon de test. Quelle est la proportion de pourriels classés comme pourriels ?"
   ]
  },
  {
   "cell_type": "code",
   "execution_count": 48,
   "metadata": {},
   "outputs": [
    {
     "data": {
      "text/plain": [
       "0.312"
      ]
     },
     "execution_count": 48,
     "metadata": {},
     "output_type": "execute_result"
    }
   ],
   "source": [
    "nb_spam_test = size(TestSet[:Spam],1)\n",
    "nb_pourriels = 0\n",
    "for i in 1:nb_spam_test\n",
    "    X = [0,0]\n",
    "    X[1] = any(wordlisting(TestSet[:Spam][i]) .== \"http\")\n",
    "    X[2] = any(wordlisting(TestSet[:Spam][i]) .== \"enron\")\n",
    "    if !modelid(prop, X)\n",
    "        nb_pourriels = nb_pourriels + 1\n",
    "    end\n",
    "end\n",
    "nb_pourriels/nb_spam_test"
   ]
  },
  {
   "cell_type": "markdown",
   "metadata": {},
   "source": [
    "# Exercice 3 <a id = \"unit3\" > </a > \n",
    "\n",
    "Pour cet exercice, nous utiliserons les mots les plus discriminant pour filtrer les messages. Pour identifier les mots les plus discriminants, l'information conjointe entre les mots et le classement est utilisée. L'information conjointe est une notion que nous verrons dans le dernier chapitre du cours concernant la théorie de l'information.\n",
    "\n",
    "\n",
    "L'exécution de la première cellule de code de cette section vous donnera la variable ``discr_words``. Le premier mot de cette liste de mot correspond au mot le plus discriminant pour classer les messages en courriels et pourriels. Le deuxième mot de la liste est le second mot le plus discriminant et ainsi de suite."
   ]
  },
  {
   "cell_type": "code",
   "execution_count": 45,
   "metadata": {},
   "outputs": [
    {
     "data": {
      "text/plain": [
       "37103-element Array{SubString{String},1}:\n",
       " \"enron\"       \n",
       " \"cc\"          \n",
       " \"hpl\"         \n",
       " \"daren\"       \n",
       " \"gas\"         \n",
       " \"http\"        \n",
       " \"forwarded\"   \n",
       " \"pm\"          \n",
       " \"thanks\"      \n",
       " \"hou\"         \n",
       " \"ect\"         \n",
       " \"subject\"     \n",
       " \"meter\"       \n",
       " ⋮             \n",
       " \"environments\"\n",
       " \"fans\"        \n",
       " \"cream\"       \n",
       " \"sailing\"     \n",
       " \"hampshire\"   \n",
       " \"requests\"    \n",
       " \"county\"      \n",
       " \"customer\"    \n",
       " \"system\"      \n",
       " \"young\"       \n",
       " \"previous\"    \n",
       " \"users\"       "
      ]
     },
     "execution_count": 45,
     "metadata": {},
     "output_type": "execute_result"
    }
   ],
   "source": [
    "\n",
    "struct BagOfWords\n",
    "    n₀::Int               # Nombre de courriels de l'ensemble d'entraînement\n",
    "    n₁::Int               # Nombre de pourriels de l'ensemble d'entraînement \n",
    "    ham_wordlist::Dict    # Occurrence des mots dans les hams\n",
    "    spam_wordlist::Dict # Occurrence des mots dans les spams\n",
    "end\n",
    "\n",
    "function wordoccurrences(word::T,B::BagOfWords) where T<:AbstractString\n",
    "    \n",
    "    ham_wordcounts = B.ham_wordlist\n",
    "    spam_wordcounts = B.spam_wordlist\n",
    "\n",
    "    if haskey(ham_wordcounts, word)\n",
    "        n10 = ham_wordcounts[word]\n",
    "    else\n",
    "        n10 = 0\n",
    "    end\n",
    "\n",
    "    if haskey(spam_wordcounts, word)\n",
    "        n11 = spam_wordcounts[word]\n",
    "    else\n",
    "        n11 = 0\n",
    "    end\n",
    "    \n",
    "    n = [n10, n11]\n",
    "    \n",
    "    return n\n",
    "    \n",
    "end\n",
    "\n",
    "function mutualInformation(word::T,B::BagOfWords) where T<:AbstractString\n",
    "   \n",
    "    α = B.n₁ / (B.n₀ + B.n₁)\n",
    "    \n",
    "    n = wordoccurrences(word,B)\n",
    "    \n",
    "    θ₀₁ = (n[1]+1) / (B.n₀+2)\n",
    "    θ₁₁ = (n[2]+1) / (B.n₁+2)\n",
    "    \n",
    "    θ₁ = (1-α)*θ₀₁ + α*θ₁₁ \n",
    "    \n",
    "    I_mat = [ (1-α)*(1-θ₀₁)*log( (1-θ₀₁)/(1-θ₁) ), (1-α)*θ₀₁*log( θ₀₁/θ₁ ),\n",
    "        α*(1-θ₁₁)*log( (1-θ₁₁)/(1-θ₁) ), α*θ₁₁*log( θ₁₁/θ₁ )  ]\n",
    "    \n",
    "    I = sum(I_mat)\n",
    "    \n",
    "    return I\n",
    "    \n",
    "end\n",
    "\n",
    "\n",
    "wordBag = BagOfWords(length(TrainSet[:Ham]),length(TrainSet[:Spam]),ham_wordcounts,spam_wordcounts)\n",
    "\n",
    "filenames = vcat(TrainSet[:Ham],TrainSet[:Spam])\n",
    "\n",
    "wordlist = wordlisting.(filenames)\n",
    "\n",
    "words = unique(vcat(wordlist...))\n",
    "\n",
    "I = Float64[]\n",
    "\n",
    "for word in words\n",
    "   push!(I, mutualInformation(word,wordBag)) \n",
    "end\n",
    "\n",
    "indperm = sortperm(I,rev=true)\n",
    "\n",
    "discr_words = words[indperm]"
   ]
  },
  {
   "cell_type": "markdown",
   "metadata": {},
   "source": [
    "## a) En prenant les 10 mots les plus discriminant, quelle est la proportion de courriels de l'ensemble de test qui sont classés comme pourriels ?"
   ]
  },
  {
   "cell_type": "code",
   "execution_count": 58,
   "metadata": {},
   "outputs": [
    {
     "ename": "BoundsError",
     "evalue": "BoundsError: attempt to access 0-element Array{Any,1} at index [1]",
     "output_type": "error",
     "traceback": [
      "BoundsError: attempt to access 0-element Array{Any,1} at index [1]",
      "",
      "Stacktrace:",
      " [1] setindex! at .\\essentials.jl:455 [inlined]",
      " [2] prob_spam(::Array{Int64,1}) at .\\In[58]:18",
      " [3] top-level scope at In[58]:33"
     ]
    }
   ],
   "source": [
    "function factor(word, exists)\n",
    "    n0i = in(word, keys(spam_wordcounts)) ? spam_wordcounts[word] : 0\n",
    "    n1i= ham_wordcounts[word]\n",
    "    \n",
    "    if exists\n",
    "        q_spam = (n0i + 1)/(n₀ + 2)\n",
    "        q_ham = (n1i + 1)/(n₁ + 2)\n",
    "        return [q_ham, q_spam]\n",
    "    else\n",
    "        q_spam = (n₀ - n0i + 1)/(n₀ + 2)\n",
    "        q_ham = (n₁ - n1i + 1)/(n₁ + 2)\n",
    "        return [q_ham, q_spam]\n",
    "    end\n",
    "end\n",
    "function prob_spam(M)\n",
    "    factors = []\n",
    "    for i in 1:10\n",
    "        factors[i] = factor(discr_words[i], M[i] == 1)\n",
    "    end\n",
    "    \n",
    "    q_spam = (n₀ + 1)/(n+2)\n",
    "    for i in 1:10\n",
    "        q_spam = q_spam * factors[i][2]\n",
    "    end\n",
    "    \n",
    "    q_ham = (n₁ + 1)/(n+2)\n",
    "    for i in 1:10\n",
    "        q_ham = q_ham * factors[i][1]\n",
    "    end\n",
    "    \n",
    "    return q_spam/(q_spam+qham)\n",
    "end\n",
    "        \n",
    "prob_spam([1,0,0,0,0,0,0,0,0,0])"
   ]
  },
  {
   "cell_type": "markdown",
   "metadata": {},
   "source": [
    "## b) En prenant les 10 mots les plus discriminant, quelle est la proportion de pourriels de l'ensemble de test qui sont classés comme pourriels ?"
   ]
  },
  {
   "cell_type": "code",
   "execution_count": null,
   "metadata": {},
   "outputs": [],
   "source": []
  },
  {
   "cell_type": "markdown",
   "metadata": {},
   "source": [
    "## c) En prenant les 100 mots les plus discriminant, quelle est la proportion de courriels de l'ensemble de test qui sont classés comme pourriels ?"
   ]
  },
  {
   "cell_type": "code",
   "execution_count": null,
   "metadata": {},
   "outputs": [],
   "source": []
  },
  {
   "cell_type": "markdown",
   "metadata": {},
   "source": [
    "## d) En prenant les 100 mots les plus discriminant, quelle est la proportion de pourriels de l'ensemble de test qui sont classés comme pourriels ?"
   ]
  },
  {
   "cell_type": "code",
   "execution_count": null,
   "metadata": {},
   "outputs": [],
   "source": []
  },
  {
   "cell_type": "markdown",
   "metadata": {},
   "source": [
    "## e) Quel serait le nombre idéal de mots discriminant qu'il faudrait prendre ?"
   ]
  },
  {
   "cell_type": "code",
   "execution_count": null,
   "metadata": {},
   "outputs": [],
   "source": []
  },
  {
   "cell_type": "code",
   "execution_count": null,
   "metadata": {},
   "outputs": [],
   "source": []
  }
 ],
 "metadata": {
  "kernelspec": {
   "display_name": "Julia 1.2.0",
   "language": "julia",
   "name": "julia-1.2"
  },
  "language_info": {
   "file_extension": ".jl",
   "mimetype": "application/julia",
   "name": "julia",
   "version": "1.2.0"
  }
 },
 "nbformat": 4,
 "nbformat_minor": 2
}
