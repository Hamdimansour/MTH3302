{
 "cells": [
  {
   "cell_type": "markdown",
   "metadata": {},
   "source": [
    "\n",
    "# MTH3302 : Méthodes probabilistes et statistiques pour l'I.A.\n",
    "\n",
    "Jonathan Jalbert<br/>\n",
    "Professeur adjoint au Département de mathématiques et de génie industriel<br/>\n",
    "Polytechnique Montréal<br/>\n",
    "\n",
    "Ce TD a été développé avec l'aide précieuse de :\n",
    "- Sanae Lofti, candidate à la maîtrise,\n",
    "- Amine Bellahsen, candidat à la maîtrise.<br/>\n",
    "\n",
    "Tous les deux étaient inscrits au cours à l'automne 2018.\n",
    "\n",
    "---\n",
    "\n",
    "\n",
    "# TD 8 : Filtre anti-spam \n",
    "___\n",
    "\n",
    "### Description\n",
    "\n",
    "Dans ce travail dirigé, vous aurez l'occasion de développer un filtre anti-spam basé sur la classification bayésienne naïve. Que la présence ou l'absence de certains mots sera considérée comme variable explicative.\n",
    "\n",
    "### Données\n",
    "\n",
    "Les données exploitées dans ce TD correspondents à des messages électroniques authentiques d'un employé de la compagnie Enron. Vous pouvez télécharger le jeux de données à partir du site web du cours. Le fichier doit être décompressé dans un dossier nommé *data* du répertoire courant de votre calepin Jupyter. \n",
    "\n",
    "Notez que les messages électroniques de 158 employés de la compagnie Enron ont été récupérés par la Federal Energy Regulatory Commission pendant la commission d'enquête qui a eu lieu après l'effondrement de la compagnie. Dans ce TD, nous n'utilisons que les messages d'un seul employé. Vous pouvez récupérer le jeu de données entier à l'adresse suivante https://www.cs.cmu.edu/~./enron/enron_mail_20150507.tar.gz.\n",
    "\n",
    "\n",
    "\n",
    "### Sommaire:\n",
    "___\n",
    "\n",
    "\n",
    "[Préliminaires](#unit0)  \n",
    "[Exercice 1](#unit1)  \n",
    "[Exercice 2](#unit2)  \n",
    "[Exercice 3](#unit3)  \n"
   ]
  },
  {
   "cell_type": "code",
   "execution_count": 1,
   "metadata": {},
   "outputs": [],
   "source": [
    "using StatsBase, Statistics, DataFrames"
   ]
  },
  {
   "cell_type": "markdown",
   "metadata": {},
   "source": [
    "# Préliminaires  <a id = \"unit0\" > </a > \n",
    "\n",
    "\n",
    "Les codes de cette section permettent de traiter les fichiers textes correspondant aux messages électroniques avant de pouvoir répondre aux questions."
   ]
  },
  {
   "cell_type": "markdown",
   "metadata": {},
   "source": [
    "### Construction des ensembles d'entraînement et de test\n",
    "\n",
    "Les messages électroniques de l'utilisateur nommé *Enron1* sont répartis dans un dossier *ham* et un dossier *spam*. La cellule de code permet d'extraire aléatoirement des courriels et des pourriels pour l'ensemble d'entraînement. On prend le $2/3$ des messages pour constituer l'échantillon d'entraînement.\n",
    "\n",
    "Le dictionnaire ``TrainSet`` contient deux champs :\n",
    "- *:Ham* qui contient la liste des fichiers textes correspondants aux courriels de l'ensemble d'entraînement. \n",
    "- *:Spam* qui contient la liste des fichiers textes correspondants aux pourriels de l'ensemble d'entraînement.\n",
    "\n",
    "Le dictionnaire ``TestSet`` contient les mêmes deux champs mais pour l'ensemble de test."
   ]
  },
  {
   "cell_type": "code",
   "execution_count": 1,
   "metadata": {},
   "outputs": [
    {
     "ename": "UndefVarError",
     "evalue": "UndefVarError: sample! not defined",
     "output_type": "error",
     "traceback": [
      "UndefVarError: sample! not defined",
      "",
      "Stacktrace:",
      " [1] top-level scope at In[1]:14"
     ]
    }
   ],
   "source": [
    "# Récupération des noms de fichier de tous les hams\n",
    "filesdir = \"data/enron1/ham/\"\n",
    "filename_ham = filesdir.*readdir(filesdir)\n",
    "\n",
    "# Récupération des noms de fichier de tous les spams\n",
    "filesdir = \"data/enron1/spam/\"\n",
    "filename_spam = filesdir.*readdir(filesdir)\n",
    "\n",
    "# nombre de fichiers pour contruire l'ensemble d'entraînement des hams\n",
    "n = Int(round(2/3*length(filename_ham)))\n",
    "\n",
    "# sélection aléatoire des fichiers de l'ensemble d'entraînement\n",
    "ham_train = Array{String}(undef,n)\n",
    "sample!(filename_ham, ham_train, replace=false, ordered=false)\n",
    "ham_test = setdiff(filename_ham, ham_train)\n",
    "\n",
    "\n",
    "# nombre de fichiers pour contruire l'ensemble d'entraînement des spams\n",
    "n = Int(round(2/3*length(filename_spam)))\n",
    "\n",
    "# sélection aléatoire des fichiers de l'ensemble d'entraînement\n",
    "spam_train = Array{String}(undef,n)\n",
    "sample!(filename_spam, spam_train, replace=false, ordered=false)\n",
    "spam_test = setdiff(filename_spam, spam_train)\n",
    "\n",
    "\n",
    "# Sauvegarder les ensembles d'entraînement et de test dans des dictionnaires\n",
    "TrainSet = Dict( :Ham => ham_train, :Spam => spam_train)\n",
    "TestSet = Dict( :Ham => ham_test, :Spam => spam_test)\n"
   ]
  },
  {
   "cell_type": "markdown",
   "metadata": {},
   "source": [
    "## Dénombrement des mots contenus dans les courriels\n",
    "\n",
    "Cette cellule permet de dénombrer le nombre de courriels où chaque mot est présent. Le dictionnaire ``ham_wordcounts`` indique le nombre de courriels dans lesquels cahque mot apparaît.\n",
    "\n",
    "La fonction *wordlisting* prend en entrée le chemin d'accès d'un fichier texte et sort la liste de mots présents du fichier. Si un mot apparaît plus d'une fois dans le fichier, la fonction ne sort que la présence de ce mot, pas la quantité de fois où il apparaît.\n",
    "\n",
    "La fonction *wordcounting* prend en entrée une matrice de liste de mots. La fonction dénombre le nombre de lignes où le mot apparaît."
   ]
  },
  {
   "cell_type": "code",
   "execution_count": 3,
   "metadata": {},
   "outputs": [
    {
     "data": {
      "text/plain": [
       "wordcounting (generic function with 1 method)"
      ]
     },
     "execution_count": 3,
     "metadata": {},
     "output_type": "execute_result"
    }
   ],
   "source": [
    "\"\"\"\n",
    "wordlisting : Cette fonction transforme un fichier texte en une liste de mots. Le nombre de fois que\n",
    "              les mots apparaîssent ne sont pas répertorié.\n",
    "Input: filename::String le chemin du fichier texte \n",
    "Output: Array{Sting} Liste des mots contenus dans le fichier texte\n",
    "\"\"\"\n",
    "function wordlisting(filename::String)\n",
    "    \n",
    "    f = read(filename, String)\n",
    "    text = replace(f, r\"[0123456789]\" => \"\")\n",
    "    words = split(text, r\"\\W+\")\n",
    "    filter!(x -> length(x) > 1, words)\n",
    "    wordlist = unique(words)\n",
    "    \n",
    "end\n",
    "\n",
    "\"\"\"\n",
    "wordcounting : À partir d'un Array of Array contenant la liste des mots d'un ensemble de fichiers texte, la fonction \n",
    "               retourne le nombre de fois où chaque mot est présent.\n",
    "Input: Un array correspondant à la liste des mots pour chacun des fichiers texte \n",
    "Output: Dictionnaire compilant le nombre de ligne dans lesquelles chacun des mots apparaît.\n",
    "\"\"\"\n",
    "function wordcounting(A::Array{Array{SubString{String},1},1})\n",
    "   \n",
    "    words = vcat(A...)\n",
    "\n",
    "    wordcounts = Dict{String,Int64}()\n",
    "\n",
    "    for word in words\n",
    "        wordcounts[word]=get(wordcounts, word, 0) + 1\n",
    "    end\n",
    "    \n",
    "    return wordcounts\n",
    "    \n",
    "end"
   ]
  },
  {
   "cell_type": "code",
   "execution_count": 4,
   "metadata": {},
   "outputs": [
    {
     "data": {
      "text/plain": [
       "Dict{String,Int64} with 13648 entries:\n",
       "  \"corbally\"    => 1\n",
       "  \"henry\"       => 3\n",
       "  \"gerdman\"     => 1\n",
       "  \"cuss\"        => 1\n",
       "  \"rises\"       => 1\n",
       "  \"hampshire\"   => 3\n",
       "  \"tnpc\"        => 1\n",
       "  \"progression\" => 1\n",
       "  \"rhonda\"      => 9\n",
       "  \"gathered\"    => 7\n",
       "  \"aldano\"      => 1\n",
       "  \"acton\"       => 66\n",
       "  \"underground\" => 1\n",
       "  \"budgeted\"    => 2\n",
       "  \"november\"    => 108\n",
       "  \"backup\"      => 2\n",
       "  \"undernom\"    => 1\n",
       "  \"stress\"      => 3\n",
       "  \"caught\"      => 1\n",
       "  \"rectified\"   => 1\n",
       "  \"premature\"   => 1\n",
       "  \"fountain\"    => 1\n",
       "  \"hicks\"       => 1\n",
       "  \"package\"     => 16\n",
       "  \"qnec\"        => 1\n",
       "  ⋮             => ⋮"
      ]
     },
     "execution_count": 4,
     "metadata": {},
     "output_type": "execute_result"
    }
   ],
   "source": [
    "ham_wordlist = wordlisting.(TrainSet[:Ham])\n",
    "ham_wordcounts = wordcounting(ham_wordlist)"
   ]
  },
  {
   "cell_type": "markdown",
   "metadata": {},
   "source": [
    "## Dénombrement des mots contenus dans les pourriels\n",
    "\n",
    "Cette cellule permet de dénombrer le nombre de courriels où chaque mot est présent. Le dictionnaire ``spam_wordcounts`` indique le nombre de courriels dans lesquels cahque mot apparaît.\n",
    "\n",
    "Les fonctions *wordlisting* et *wordcounting* sont utilisées."
   ]
  },
  {
   "cell_type": "code",
   "execution_count": 5,
   "metadata": {},
   "outputs": [
    {
     "data": {
      "text/plain": [
       "Dict{String,Int64} with 29840 entries:\n",
       "  \"upsurge\"        => 1\n",
       "  \"rpiebkwgu\"      => 1\n",
       "  \"eowrsmi\"        => 1\n",
       "  \"grp\"            => 2\n",
       "  \"null\"           => 1\n",
       "  \"staphylococcus\" => 1\n",
       "  \"inattentive\"    => 1\n",
       "  \"gout\"           => 1\n",
       "  \"henry\"          => 2\n",
       "  \"mycology\"       => 1\n",
       "  \"aslpp\"          => 1\n",
       "  \"maggotadvances\" => 1\n",
       "  \"jemimajones\"    => 1\n",
       "  \"corrodible\"     => 1\n",
       "  \"brandt\"         => 2\n",
       "  \"hampshire\"      => 1\n",
       "  \"whiz\"           => 1\n",
       "  \"vrmtk\"          => 1\n",
       "  \"rhonda\"         => 1\n",
       "  \"il\"             => 11\n",
       "  \"neumann\"        => 1\n",
       "  \"soapstone\"      => 1\n",
       "  \"gathered\"       => 14\n",
       "  \"dealon\"         => 1\n",
       "  \"lovers\"         => 1\n",
       "  ⋮                => ⋮"
      ]
     },
     "execution_count": 5,
     "metadata": {},
     "output_type": "execute_result"
    }
   ],
   "source": [
    "spam_wordlist = wordlisting.(TrainSet[:Spam])\n",
    "spam_wordcounts = wordcounting(spam_wordlist)"
   ]
  },
  {
   "cell_type": "markdown",
   "metadata": {},
   "source": [
    "# Exercice 1 <a id = \"unit1\" > </a > \n",
    "\n",
    "Considérez le mot ***http*** comme variable explicative pour classer les messages électroniques en courriels et pourriels."
   ]
  },
  {
   "cell_type": "markdown",
   "metadata": {},
   "source": [
    "### a) Si un message contient le mot ***http***, quelle est la probabilité que ce message soit un pourriel ?"
   ]
  },
  {
   "cell_type": "code",
   "execution_count": null,
   "metadata": {},
   "outputs": [],
   "source": []
  },
  {
   "cell_type": "markdown",
   "metadata": {},
   "source": [
    "### b) Si un message ne contient pas le mot ***http***, quelle est la probabilité que ce message soit un pourriel ?"
   ]
  },
  {
   "cell_type": "code",
   "execution_count": null,
   "metadata": {},
   "outputs": [],
   "source": []
  },
  {
   "cell_type": "markdown",
   "metadata": {},
   "source": [
    "### c) Filtrez tous les courriels de l'échantillon de test. Quelle est la proportion de courriels classés comme pourriels?"
   ]
  },
  {
   "cell_type": "code",
   "execution_count": null,
   "metadata": {},
   "outputs": [],
   "source": []
  },
  {
   "cell_type": "markdown",
   "metadata": {},
   "source": [
    "### d) Filtrez tous les pourriels de l'échantillon de test. Quelle est la proportion de pourriels classés comme pourriels?"
   ]
  },
  {
   "cell_type": "code",
   "execution_count": null,
   "metadata": {},
   "outputs": [],
   "source": []
  },
  {
   "cell_type": "markdown",
   "metadata": {},
   "source": [
    "# Exercice 2 <a id = \"unit2\" > </a > \n",
    "\n",
    "Considérez les mots ***http*** et ***enron*** comme variables explicatives pour classer les messages électroniques en courriels et pourriels."
   ]
  },
  {
   "cell_type": "markdown",
   "metadata": {},
   "source": [
    "### a) Si un message contient les mots ***http*** et ***enron***, quelle est la probabilité que ce message soit un pourriel ?"
   ]
  },
  {
   "cell_type": "code",
   "execution_count": null,
   "metadata": {},
   "outputs": [],
   "source": []
  },
  {
   "cell_type": "markdown",
   "metadata": {},
   "source": [
    "### b) Si un message ne contient pas les mots ***http*** et ***enron***, quelle est la probabilité que ce message soit un pourriel ?"
   ]
  },
  {
   "cell_type": "code",
   "execution_count": null,
   "metadata": {},
   "outputs": [],
   "source": []
  },
  {
   "cell_type": "markdown",
   "metadata": {},
   "source": [
    "### c) Si un message contient le mot ***http*** mais ne contient pas le mot ***enron***, quelle est la probabilité que ce message soit un pourriel ?"
   ]
  },
  {
   "cell_type": "code",
   "execution_count": null,
   "metadata": {},
   "outputs": [],
   "source": []
  },
  {
   "cell_type": "markdown",
   "metadata": {},
   "source": [
    "### d) Si un message ne contient pas le mot ***http*** mais contient le mot ***enron***, quelle est la probabilité que ce message soit un pourriel ?"
   ]
  },
  {
   "cell_type": "code",
   "execution_count": null,
   "metadata": {},
   "outputs": [],
   "source": []
  },
  {
   "cell_type": "markdown",
   "metadata": {},
   "source": [
    "### e) Filtrez tous les courriels de l'échantillon de test. Quelle est la proportion de courriels classés comme pourriels ?"
   ]
  },
  {
   "cell_type": "code",
   "execution_count": null,
   "metadata": {},
   "outputs": [],
   "source": []
  },
  {
   "cell_type": "markdown",
   "metadata": {},
   "source": [
    "### f) Filtrez tous les pourriels de l'échantillon de test. Quelle est la proportion de pourriels classés comme pourriels ?"
   ]
  },
  {
   "cell_type": "code",
   "execution_count": null,
   "metadata": {},
   "outputs": [],
   "source": []
  },
  {
   "cell_type": "markdown",
   "metadata": {},
   "source": [
    "# Exercice 3 <a id = \"unit3\" > </a > \n",
    "\n",
    "Pour cet exercice, nous utiliserons les mots les plus discriminant pour filtrer les messages. Pour identifier les mots les plus discriminants, l'information conjointe entre les mots et le classement est utilisée. L'information conjointe est une notion que nous verrons dans le dernier chapitre du cours concernant la théorie de l'information.\n",
    "\n",
    "\n",
    "L'exécution de la première cellule de code de cette section vous donnera la variable ``discr_words``. Le premier mot de cette liste de mot correspond au mot le plus discriminant pour classer les messages en courriels et pourriels. Le deuxième mot de la liste est le second mot le plus discriminant et ainsi de suite."
   ]
  },
  {
   "cell_type": "code",
   "execution_count": 6,
   "metadata": {},
   "outputs": [
    {
     "data": {
      "text/plain": [
       "37209-element Array{SubString{String},1}:\n",
       " \"enron\"     \n",
       " \"cc\"        \n",
       " \"hpl\"       \n",
       " \"daren\"     \n",
       " \"gas\"       \n",
       " \"pm\"        \n",
       " \"http\"      \n",
       " \"forwarded\" \n",
       " \"ect\"       \n",
       " \"hou\"       \n",
       " \"subject\"   \n",
       " \"thanks\"    \n",
       " \"meter\"     \n",
       " ⋮           \n",
       " \"fellow\"    \n",
       " \"compiling\" \n",
       " \"portfolios\"\n",
       " \"alvin\"     \n",
       " \"wright\"    \n",
       " \"pete\"      \n",
       " \"run\"       \n",
       " \"again\"     \n",
       " \"yes\"       \n",
       " \"drop\"      \n",
       " \"type\"      \n",
       " \"calls\"     "
      ]
     },
     "execution_count": 6,
     "metadata": {},
     "output_type": "execute_result"
    }
   ],
   "source": [
    "\n",
    "struct BagOfWords\n",
    "    n₀::Int               # Nombre de courriels de l'ensemble d'entraînement\n",
    "    n₁::Int               # Nombre de pourriels de l'ensemble d'entraînement \n",
    "    ham_wordlist::Dict    # Occurrence des mots dans les hams\n",
    "    spam_wordlist::Dict # Occurrence des mots dans les spams\n",
    "end\n",
    "\n",
    "function wordoccurrences(word::T,B::BagOfWords) where T<:AbstractString\n",
    "    \n",
    "    ham_wordcounts = B.ham_wordlist\n",
    "    spam_wordcounts = B.spam_wordlist\n",
    "\n",
    "    if haskey(ham_wordcounts, word)\n",
    "        n10 = ham_wordcounts[word]\n",
    "    else\n",
    "        n10 = 0\n",
    "    end\n",
    "\n",
    "    if haskey(spam_wordcounts, word)\n",
    "        n11 = spam_wordcounts[word]\n",
    "    else\n",
    "        n11 = 0\n",
    "    end\n",
    "    \n",
    "    n = [n10, n11]\n",
    "    \n",
    "    return n\n",
    "    \n",
    "end\n",
    "\n",
    "function mutualInformation(word::T,B::BagOfWords) where T<:AbstractString\n",
    "   \n",
    "    α = B.n₁ / (B.n₀ + B.n₁)\n",
    "    \n",
    "    n = wordoccurrences(word,B)\n",
    "    \n",
    "    θ₀₁ = (n[1]+1) / (B.n₀+2)\n",
    "    θ₁₁ = (n[2]+1) / (B.n₁+2)\n",
    "    \n",
    "    θ₁ = (1-α)*θ₀₁ + α*θ₁₁ \n",
    "    \n",
    "    I_mat = [ (1-α)*(1-θ₀₁)*log( (1-θ₀₁)/(1-θ₁) ), (1-α)*θ₀₁*log( θ₀₁/θ₁ ),\n",
    "        α*(1-θ₁₁)*log( (1-θ₁₁)/(1-θ₁) ), α*θ₁₁*log( θ₁₁/θ₁ )  ]\n",
    "    \n",
    "    I = sum(I_mat)\n",
    "    \n",
    "    return I\n",
    "    \n",
    "end\n",
    "\n",
    "\n",
    "wordBag = BagOfWords(length(TrainSet[:Ham]),length(TrainSet[:Spam]),ham_wordcounts,spam_wordcounts)\n",
    "\n",
    "filenames = vcat(TrainSet[:Ham],TrainSet[:Spam])\n",
    "\n",
    "wordlist = wordlisting.(filenames)\n",
    "\n",
    "words = unique(vcat(wordlist...))\n",
    "\n",
    "I = Float64[]\n",
    "\n",
    "for word in words\n",
    "   push!(I, mutualInformation(word,wordBag)) \n",
    "end\n",
    "\n",
    "indperm = sortperm(I,rev=true)\n",
    "\n",
    "discr_words = words[indperm]"
   ]
  },
  {
   "cell_type": "markdown",
   "metadata": {},
   "source": [
    "## a) En prenant les 10 mots les plus discriminant, quelle est la proportion de courriels de l'ensemble de test qui sont classés comme pourriels ?"
   ]
  },
  {
   "cell_type": "code",
   "execution_count": null,
   "metadata": {},
   "outputs": [],
   "source": []
  },
  {
   "cell_type": "markdown",
   "metadata": {},
   "source": [
    "## b) En prenant les 10 mots les plus discriminant, quelle est la proportion de pourriels de l'ensemble de test qui sont classés comme pourriels ?"
   ]
  },
  {
   "cell_type": "code",
   "execution_count": null,
   "metadata": {},
   "outputs": [],
   "source": []
  },
  {
   "cell_type": "markdown",
   "metadata": {},
   "source": [
    "## c) En prenant les 100 mots les plus discriminant, quelle est la proportion de courriels de l'ensemble de test qui sont classés comme pourriels ?"
   ]
  },
  {
   "cell_type": "code",
   "execution_count": null,
   "metadata": {},
   "outputs": [],
   "source": []
  },
  {
   "cell_type": "markdown",
   "metadata": {},
   "source": [
    "## d) En prenant les 100 mots les plus discriminant, quelle est la proportion de pourriels de l'ensemble de test qui sont classés comme pourriels ?"
   ]
  },
  {
   "cell_type": "code",
   "execution_count": null,
   "metadata": {},
   "outputs": [],
   "source": []
  },
  {
   "cell_type": "markdown",
   "metadata": {},
   "source": [
    "## e) Quel serait le nombre idéal de mots discriminant qu'il faudrait prendre ?"
   ]
  },
  {
   "cell_type": "code",
   "execution_count": null,
   "metadata": {},
   "outputs": [],
   "source": []
  },
  {
   "cell_type": "code",
   "execution_count": null,
   "metadata": {},
   "outputs": [],
   "source": []
  }
 ],
 "metadata": {
  "kernelspec": {
   "display_name": "Julia 1.2.0",
   "language": "julia",
   "name": "julia-1.2"
  },
  "language_info": {
   "file_extension": ".jl",
   "mimetype": "application/julia",
   "name": "julia",
   "version": "1.2.0"
  }
 },
 "nbformat": 4,
 "nbformat_minor": 2
}
