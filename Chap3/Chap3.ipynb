{
 "cells": [
  {
   "cell_type": "markdown",
   "metadata": {},
   "source": [
    "# MTH3302 : Méthodes probabilistes et statistiques pour l'I.A.\n",
    "\n",
    "Jonathan Jalbert<br/>\n",
    "Professeur adjoint au Département de mathématiques et de génie industriel<br/>\n",
    "Polytechnique Montréal<br/>\n",
    "\n",
    "\n",
    "# Chapitre 3 - Introduction aux modèles linéaires généralisés\n",
    "\n",
    "Ce calepin Jupyter accompage le Chapitre 3 des notes de cours.\n",
    "\n",
    "Chargeons d'abord les librairies nécessaires."
   ]
  },
  {
   "cell_type": "code",
   "execution_count": null,
   "metadata": {},
   "outputs": [],
   "source": [
    "using CSV, DataFrames             # Pour charger et organiser les données\n",
    "using Gadfly                      # Pour générer des graphiques\n",
    "using Distributions               # Pour utiliser les distributions statistiques\n",
    "using LinearAlgebra               # Pour utiliser les fonctions d'algèbre linéaire\n",
    "using GLM                         # Libriairie pour la régression et les modèles linéaires généralisés"
   ]
  },
  {
   "cell_type": "markdown",
   "metadata": {},
   "source": [
    "Afin de ne pas alourdir le calepin, un fichier de fonctions relatives à la courbe ROC est fourni. Le fichier *functions.jl* contient les fonctions suivantes :\n",
    "- roc_instance ;\n",
    "- roc_curve ;\n",
    "- roc_area.\n",
    "\n",
    "Il doit être inclus à l'aide de la commande `include(\"functions.jl\")`. Pour avoir une description de ces fonctions, par exemple la fonction *roc_curve*, vous pouvez utiliser la commande `?roc_curve` dans une cellule de code vide."
   ]
  },
  {
   "cell_type": "code",
   "execution_count": null,
   "metadata": {},
   "outputs": [],
   "source": [
    "include(\"functions.jl\");"
   ]
  },
  {
   "cell_type": "code",
   "execution_count": null,
   "metadata": {},
   "outputs": [],
   "source": [
    "?roc_curve"
   ]
  },
  {
   "cell_type": "markdown",
   "metadata": {},
   "source": [
    "# Description du jeu de données : les passagers du Titanic\n",
    "\n",
    "Lors du naufrage du Titanic, entre 1 490 et 1 520 personnes disparaissent sur les 1316 passagers et 889 membres d'équipage. Ce jeu de données compile plusieurs caractéristiques sur chacun des passagers, tels leur âge, leur sexe, la classe de leur billet, etc. ainsi que sa survie ou son décès. Voici toutes les caractéristiques enregistrées ainsi que leurs abréviations :\n",
    "\n",
    "<ul>\n",
    "<li>survival : 0 signifie que le passager est décédé, 1 signifie que le passager a survécu.</li>\n",
    "<li>pclass : la classe du passager. La première classe est la plus dispendieuse.</li>\n",
    "<li>sex : le genre du passager.</li>\n",
    "<li>age : age en années. Si le passager a moins d'un an, l'âge peut être donné en fraction. Si l'age est estimé car inconnu, il est donné sous forme d'un nombre à virgule.</li>\n",
    "<li>sibsp : nombre de frères et soeurs et d'époux du passager voyageant avec lui.</li>\n",
    "<li>parch : nombre de parents ou d'enfants du passager voyageant avec lui. Des enfants ont voyagé avec une nanny, donc l'enfant avant 0 parent à bord.</li>\n",
    "<li>ticket : numéro du billet.</li>\n",
    "<li>fare : tarif.</li>\n",
    "<li>cabin : numéro de la cabine.</li>\n",
    "<li>embarked : Port d'embarquement (C = Cherbourg, Q = Queenstown, S = Southampton).</li>\n",
    "</ul>\n",
    "\n",
    "\n",
    "Dans ce chapitre et dans le TD3, nous étudierons si certaines caractéristiques ont une influencent sur la probabilité de survie des passagers."
   ]
  },
  {
   "cell_type": "markdown",
   "metadata": {},
   "source": [
    "# Chargement des données\n",
    "\n",
    "Le jeu de données est partionné en deux sous-ensembles : un ensemble d'entraînement et un ensemble de test. L'ensemble d'entraînement, comportant les informations de 872 passagers, sert à estimer les paramètres de votre modèle. La survie ou le décès des 437 passagers de l'ensemble de test est conservé secret pour le concours de prédiction du TD3.\n",
    "\n",
    "Attention, plusieurs variables comportent des valeurs manquantes."
   ]
  },
  {
   "cell_type": "code",
   "execution_count": null,
   "metadata": {},
   "outputs": [],
   "source": [
    "# Chargement l'ensemble d'entraînement\n",
    "\n",
    "data = CSV.read(\"Train.csv\")\n",
    "first(data,5)"
   ]
  },
  {
   "cell_type": "markdown",
   "metadata": {},
   "source": [
    "# Analyse exploratoire partielle\n",
    "\n",
    "Dans le film Titanic, les passagers de première classe semblait avoir une meilleure chance de survie. Vérifions empiriquement (avant d'estimer les paramètres d'un modèle) si cette situation est cohérente avec les données."
   ]
  },
  {
   "cell_type": "code",
   "execution_count": null,
   "metadata": {},
   "outputs": [],
   "source": [
    "# Affichage du taux de survie des passagers en fonction de leur classe\n",
    "\n",
    "df = by(data, :Pclass, df -> mean(df[:,:Survived]))\n",
    "rename!(df, :Pclass => :Classe, :x1 => :Taux_Survie)\n",
    "plot(df, x=:Classe, y=:Taux_Survie, Geom.bar)"
   ]
  },
  {
   "cell_type": "markdown",
   "metadata": {},
   "source": [
    "# 3.2 Régression logistique\n",
    "\n",
    "On utilise seulement la classe comme variable explicative dans le modèle linéaire généralisé."
   ]
  },
  {
   "cell_type": "code",
   "execution_count": null,
   "metadata": {},
   "outputs": [],
   "source": [
    "# Encoder la classe des passagers avec deux variables indicatrices\n",
    "\n",
    "Pclass = convert(Array{Int64},data[:,:Pclass])\n",
    "n = length(Pclass)\n",
    "x₁ = zeros(Int64,n)\n",
    "x₂ = zeros(Int64,n)\n",
    "for i = 1:n\n",
    "    if Pclass[i]==2\n",
    "        x₂[i] = 1\n",
    "    elseif Pclass[i]==1\n",
    "        x₁[i] = 1\n",
    "    end   \n",
    "end\n",
    "\n",
    "y = data[:,:Survived]\n",
    "\n",
    "X = hcat(ones(n), x₁, x₂)\n",
    "\n",
    "# Stockage des variables du modèle dans un dataframe pour une utilisation simple de la librairie GLM\n",
    "df = DataFrame(x₁=x₁, x₂=x₂, Y=y)\n",
    "first(df, 5)"
   ]
  },
  {
   "cell_type": "markdown",
   "metadata": {},
   "source": [
    "## Estimation par maximum de la vraisemblance du modèle de régression logistique\n",
    "\n",
    "1. La classe des passagers est utilisée comme variable explicative\n",
    "2. La fonction de lien logit est utilisée"
   ]
  },
  {
   "cell_type": "code",
   "execution_count": null,
   "metadata": {},
   "outputs": [],
   "source": [
    "M = glm(@formula(Y ~ x₁ + x₂), df,  Bernoulli(), LogitLink())\n",
    "\n",
    "#= Avec les valeurs p affichées, on constate que la classe possède un pouvoir prédictif significatif\n",
    "pour prédire la survie des passagers. =#"
   ]
  },
  {
   "cell_type": "code",
   "execution_count": null,
   "metadata": {},
   "outputs": [],
   "source": [
    "# Estimation de la probabilité de survie par classe\n",
    "\n",
    "β̂ = coef(M)\n",
    "\n",
    "x₀ = [1.0 1.0 0.0 ;\n",
    "      1.0 0.0 1.0 ; \n",
    "      1.0 0.0 0.0]\n",
    "\n",
    "θ̂₀ = predict(M,x₀)"
   ]
  },
  {
   "cell_type": "code",
   "execution_count": null,
   "metadata": {},
   "outputs": [],
   "source": [
    "# Pour chacune des observations, estimation de la probabilité de survie\n",
    "\n",
    "θ̂ = predict(M,X)"
   ]
  },
  {
   "cell_type": "markdown",
   "metadata": {},
   "source": [
    "# 3.2.3 Mesure de la qualité du modèle"
   ]
  },
  {
   "cell_type": "code",
   "execution_count": null,
   "metadata": {},
   "outputs": [],
   "source": [
    "# Calcul du taux de vrais positifs et de faux positifs pour un seuil de 1/2.\n",
    "\n",
    "p, q = roc_instance(y,θ̂)\n",
    "\n",
    "println(\"La sensibilité est de $p.\")\n",
    "println(\"La spécificité est de $(1-q).\")"
   ]
  },
  {
   "cell_type": "code",
   "execution_count": null,
   "metadata": {},
   "outputs": [],
   "source": [
    "# Calcul de la courbe ROC\n",
    "\n",
    "p, q = roc_curve(y,θ̂)\n",
    "\n",
    "plot(x=q, y=p, Geom.line, Geom.abline(color=\"red\"), Guide.xlabel(\"Proportion de faux positifs\"),\n",
    "    Guide.ylabel(\"Proportion de vrais positifs\"))"
   ]
  },
  {
   "cell_type": "code",
   "execution_count": null,
   "metadata": {},
   "outputs": [],
   "source": [
    "# Calcul de l'aire sous la courbe ROC\n",
    "\n",
    "A = roc_area(y,θ̂)"
   ]
  },
  {
   "cell_type": "code",
   "execution_count": null,
   "metadata": {},
   "outputs": [],
   "source": []
  }
 ],
 "metadata": {
  "@webio": {
   "lastCommId": null,
   "lastKernelId": null
  },
  "kernelspec": {
   "display_name": "Julia 1.2.0",
   "language": "julia",
   "name": "julia-1.2"
  },
  "language_info": {
   "file_extension": ".jl",
   "mimetype": "application/julia",
   "name": "julia",
   "version": "1.2.0"
  }
 },
 "nbformat": 4,
 "nbformat_minor": 2
}
