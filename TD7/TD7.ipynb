{
 "cells": [
  {
   "cell_type": "markdown",
   "metadata": {},
   "source": [
    "# MTH3302 : Méthodes probabilistes et statistiques pour l'I.A.\n",
    "\n",
    "Jonathan Jalbert<br/>\n",
    "Professeur adjoint au Département de mathématiques et de génie industriel<br/>\n",
    "Polytechnique Montréal<br/>\n",
    "\n",
    "\n",
    "## TD7 : Mélanges de lois\n",
    "\n",
    "\n",
    "Ce TD est composé de trois exercices. Le premier concerne l'utilisation du mélange de lois normales pour effectuer une classification. Le deuxième exercice concerne la génération d'un échantillon aléatoire d'un mélange de deux lois exponentielles et l'estimation de ses paramètres avec l'échantillonnage de Gibbs. L'estimation des paramètres avec l'algorithme EM constitue l'objet du troisième exercice."
   ]
  },
  {
   "cell_type": "code",
   "execution_count": null,
   "metadata": {},
   "outputs": [],
   "source": [
    "using CSV, DataFrames, Statistics, Distributions, Gadfly\n",
    "include(\"functions.jl\");"
   ]
  },
  {
   "cell_type": "markdown",
   "metadata": {},
   "source": [
    "## Exercice 1 - Salaires des diplômés en fonction du type d'université\n",
    "\n",
    "Dans cet exercice, nous étudierons le salaire médian des diplomés au États-Unis en fonction du type d'université :\n",
    "\n",
    "- Engineering\n",
    "- Ivy League \n",
    "- Liberal Arts\n",
    "- Party    \n",
    "- State\n",
    "\n",
    "Les données proviennent de *PayScale Inc.* et ont été récupérées sur le site web du *Wall Street Journal* :\n",
    "http://online.wsj.com/public/resources/documents/info-Salaries_for_Colleges_by_Type-sort.html."
   ]
  },
  {
   "cell_type": "code",
   "execution_count": null,
   "metadata": {},
   "outputs": [],
   "source": [
    "# Chargement des données\n",
    "\n",
    "data = CSV.read(\"salaries.csv\")\n",
    "first(data,5)"
   ]
  },
  {
   "cell_type": "code",
   "execution_count": null,
   "metadata": {},
   "outputs": [],
   "source": [
    "# Affichage du nom des colonnes du DataFrame\n",
    "names(data)"
   ]
  },
  {
   "cell_type": "code",
   "execution_count": null,
   "metadata": {},
   "outputs": [],
   "source": [
    "# Transformation des salaires en milliers de dollars pour un affichage plus élégant\n",
    "for i=3:8\n",
    "    data[!,i] = data[:,i]/1000\n",
    "end"
   ]
  },
  {
   "cell_type": "markdown",
   "metadata": {},
   "source": [
    "### (a) Illustrez l'histogramme des salaires médians des diplomés en début de carrière\n",
    "\n",
    "Pour que votre graphique soit plus élégant, vous pouvez afficher le salaire médian en milliers de dollars (k$). Le nombre de classe de l'histogramme devrait être environ la racine carré du nombre d'observations."
   ]
  },
  {
   "cell_type": "code",
   "execution_count": null,
   "metadata": {},
   "outputs": [],
   "source": []
  },
  {
   "cell_type": "markdown",
   "metadata": {},
   "source": [
    "### (b) Illustrez les diagrammes en boîtes salaires médians des diplomés en début de carrière en fonction des types d'école\n",
    "\n",
    "Avec la librairie Gadfly, utilisez la géométrie Geom.boxplot pour illustrer des diagrammes en boîte."
   ]
  },
  {
   "cell_type": "code",
   "execution_count": null,
   "metadata": {},
   "outputs": [],
   "source": []
  },
  {
   "cell_type": "markdown",
   "metadata": {},
   "source": [
    "### (c) Estimez les paramètres d'un mélange de deux lois normales avec l'algorithme EM\n",
    "\n",
    "L'algorithme EM pour un mélange de deux lois normales est fourni dans le fichier *functions.jl*. Il s'agit de la fonction `GMMemfit(y::Vector{<:Real})`. La sortie de cette fonction donne un objet de type *MixtureModel* qui s'utilise avec les méthodes standards (`pdf`, `logpdf`, etc.) de la librairie *Distributions*. Les méthodes suivantes sont particulières au type *MixtureModel*:\n",
    "- `probs(fd::MixtureModel)` : retourne le vecteur des poids de chacune des composantes ;\n",
    "- `component(fd::MixtureModel, k)` : retourne un objet de type *Distribution* correspondant à la composante k."
   ]
  },
  {
   "cell_type": "code",
   "execution_count": null,
   "metadata": {},
   "outputs": [],
   "source": []
  },
  {
   "cell_type": "code",
   "execution_count": null,
   "metadata": {},
   "outputs": [],
   "source": [
    "# Permutation des composantes pour que la deuxième composante possède la plus grande moyenne\n",
    "\n",
    "if mean(component(fd, 2)) < mean(component(fd, 1))\n",
    "    f₀ = component(fd, 2)\n",
    "    f₁ = component(fd, 1)\n",
    "    ω = probs(fd)[1]\n",
    "    \n",
    "    fd = GMM(ω, mean(f₀), std(f₀), mean(f₁), std(f₁))\n",
    "end"
   ]
  },
  {
   "cell_type": "markdown",
   "metadata": {},
   "source": [
    "### (d) Tracez les densités des deux composantes obtenues ainsi que la densité du mélange\n",
    "\n",
    "Tracez ces densités pour les salaires médians de 30 à 50 k$. \n",
    "\n",
    "Pour un affichage simplifié, vous pouvez créer un DataFrame avec une colonne pour $x$, une colonne pour le première composante f₀, une colonne pour la deuxième composante f₁ et une colonne pour le mélange f. Ensuite, vous pouvez utiliser la fonction `melt(df, :x)` pour transformer les colonnes de votre DataFrame en variables utiles pour l'affichage."
   ]
  },
  {
   "cell_type": "code",
   "execution_count": null,
   "metadata": {},
   "outputs": [],
   "source": [
    "x = 30:.1:70\n",
    "\n",
    "\n"
   ]
  },
  {
   "cell_type": "markdown",
   "metadata": {},
   "source": [
    "### (e) Estimez pour chacun des salaires médians la probabilité qu'il provienne de la composante de plus grande moyenne"
   ]
  },
  {
   "cell_type": "code",
   "execution_count": null,
   "metadata": {},
   "outputs": [],
   "source": []
  },
  {
   "cell_type": "markdown",
   "metadata": {},
   "source": [
    "### (f) Combien d'universités de chaque type se retrouve dans la catégorie correspondante à la composante ayant  la moyenne la plus élevée pour les salaires médians.\n",
    "\n",
    "Supposez que les observations pour lesquelles p>1/2 proviennent de la composante avec la plus grande moyenne.\n",
    "\n",
    "[**Optionel**]Pour dénombrer par type, vous pouvez utilisez la fonction *by()* de la librairie *DataFrame*."
   ]
  },
  {
   "cell_type": "code",
   "execution_count": null,
   "metadata": {},
   "outputs": [],
   "source": []
  },
  {
   "cell_type": "markdown",
   "metadata": {},
   "source": [
    "### (g) Combien d'universités de chaque type se retrouve dans la catégorie correspondante à la composante ayant  la moyenne la plus basse pour les salaires médians."
   ]
  },
  {
   "cell_type": "code",
   "execution_count": null,
   "metadata": {},
   "outputs": [],
   "source": []
  },
  {
   "cell_type": "markdown",
   "metadata": {},
   "source": [
    "### (h) Quelles sont les universités d'état qui se comparent aux grandes universités ?"
   ]
  },
  {
   "cell_type": "code",
   "execution_count": null,
   "metadata": {},
   "outputs": [],
   "source": []
  },
  {
   "cell_type": "markdown",
   "metadata": {},
   "source": [
    "### (i) Quelles sont les universités d'ingénierie qui se comparent aux universités d'état ?"
   ]
  },
  {
   "cell_type": "code",
   "execution_count": null,
   "metadata": {},
   "outputs": [],
   "source": []
  },
  {
   "cell_type": "markdown",
   "metadata": {},
   "source": [
    "## Exercice 2 :  Mélange de deux lois exponentielles\n",
    "\n",
    "Soit le mélange de deux lois exponentielles suivant :\n",
    "\n",
    "$$f_{(Y|\\boldsymbol{\\theta})}(y) = (1- \\omega) ~ \\mathcal{E}xp(\\lambda_0) + \\omega ~ \\mathcal{E}xp(\\lambda_1).$$\n",
    "\n",
    "avec $\\boldsymbol{\\theta} = (\\omega, \\lambda_0, \\lambda_1)$. Attention, on utilise ici la seule forme acceptable de la loi exponentielle qui stipule que si $Y \\sim \\mathcal{E}xp(\\lambda)$, alors $\\mathbb{E}(Y) = 1/\\lambda$ (voir par exemple https://en.wikipedia.org/wiki/Exponential_distribution ).\n"
   ]
  },
  {
   "cell_type": "markdown",
   "metadata": {},
   "source": [
    "### (a) Générez un échantillon aléatoire d'un mélange de lois exponentielles\n",
    "\n",
    "Générez un échantillon aléatoire de taille $n = 1000$ du mélange de lois exponentielles de paramètres $\\boldsymbol{\\theta} = (1/5, 1, 1/4)$.\n",
    "\n",
    "Pour ce faire, rappelez-vous de l'interprétation de $\\omega$ et de la variable latente $Z$."
   ]
  },
  {
   "cell_type": "code",
   "execution_count": null,
   "metadata": {},
   "outputs": [],
   "source": [
    "n = 1000\n",
    "ω = 1/5\n",
    "λ₀ = 1\n",
    "λ₁ = 1/4\n",
    "\n"
   ]
  },
  {
   "cell_type": "markdown",
   "metadata": {},
   "source": [
    "### (b) Tracez l'histogramme de l'échantillon généré"
   ]
  },
  {
   "cell_type": "code",
   "execution_count": null,
   "metadata": {},
   "outputs": [],
   "source": []
  },
  {
   "cell_type": "markdown",
   "metadata": {},
   "source": [
    "### (c) Générez un échantillon de la loi *a posteriori* des paramètres en utilisant l'échantillonnage de Gibbs\n",
    "\n",
    "Utilisez la loi *a priori* impropre suivante pour les paramètres :\n",
    "$$f_{\\boldsymbol{\\theta}}(\\boldsymbol{\\theta}) \\propto (1-\\omega)^{-1}\\omega^{-1} \\times \\lambda_0^{-1} \\times \\lambda_1^{-1}.$$\n",
    "\n",
    "Faîtes au moins 1000 itérations pour l'échantillonnage de Gibbs. Tracez les chaînes marginales générées."
   ]
  },
  {
   "cell_type": "code",
   "execution_count": null,
   "metadata": {},
   "outputs": [],
   "source": [
    "# Initialisation des vecteur pour le MCMC\n",
    "niter = 1000\n",
    "ω = zeros(niter)\n",
    "λ₀ = zeros(niter)\n",
    "λ₁ = zeros(niter)\n",
    "z = falses(n,niter)\n",
    "\n",
    "# Valeurs initiales\n",
    "ω[1] = .5\n",
    "λ₀[1] = 1\n",
    "λ₁[1] = 1\n",
    "\n",
    "\n",
    "\n",
    "# Stockage dans un DataFrame pour un affichage rapide\n",
    "# df = DataFrame(Itération = 1:niter, ω = ω, λ₀ = λ₀, λ₁ = λ₁)\n",
    "# first(df,5)"
   ]
  },
  {
   "cell_type": "code",
   "execution_count": null,
   "metadata": {},
   "outputs": [],
   "source": []
  },
  {
   "cell_type": "code",
   "execution_count": null,
   "metadata": {},
   "outputs": [],
   "source": []
  },
  {
   "cell_type": "code",
   "execution_count": null,
   "metadata": {},
   "outputs": [],
   "source": []
  },
  {
   "cell_type": "markdown",
   "metadata": {},
   "source": [
    "### (d) Estimez les paramètres avec l'algorithme EM\n",
    "\n",
    "Vous devez trouvez les expressions des estimations améliorées pour le mélange de lois exponentielles avec l'algorithme EM."
   ]
  },
  {
   "cell_type": "code",
   "execution_count": null,
   "metadata": {},
   "outputs": [],
   "source": []
  }
 ],
 "metadata": {
  "@webio": {
   "lastCommId": null,
   "lastKernelId": null
  },
  "kernelspec": {
   "display_name": "Julia 1.2.0",
   "language": "julia",
   "name": "julia-1.2"
  },
  "language_info": {
   "file_extension": ".jl",
   "mimetype": "application/julia",
   "name": "julia",
   "version": "1.2.0"
  }
 },
 "nbformat": 4,
 "nbformat_minor": 2
}
