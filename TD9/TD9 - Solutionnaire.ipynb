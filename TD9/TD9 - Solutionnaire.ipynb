{
 "cells": [
  {
   "cell_type": "markdown",
   "metadata": {},
   "source": [
    "\n",
    "# MTH3302 : Méthodes probabilistes et statistiques pour l'I.A.\n",
    "\n",
    "Jonathan Jalbert<br/>\n",
    "Professeur adjoint au Département de mathématiques et de génie industriel<br/>\n",
    "Polytechnique Montréal<br/>\n",
    "\n",
    "---\n",
    "\n",
    "\n",
    "# TD 9 : Théorie de l'information\n",
    "___\n",
    "\n",
    "### Description\n",
    "\n",
    "Dans ce travail dirigé, vous aurez l'occasion de déterminer quels mots sont les plus discriminants pour la construction du filtre anti-spam du TD8.\n",
    "\n",
    "L'exercice 1 vous permettra de programmer les fonctions utiles pour classer les mots en fonction de leur information mutuelle avec la catégorie du message (courriel ou pourriel). L'exercice 2 vous permettra d'estimer la loi conjointe et les lois marginales entre une variable explicative $X_j$ et $Y$ avec les messages électroniques obtenus. Dans l'exercice 3, vous identifierez les mots les plus discriminant pour classer les messages électroniques en courriel ou pourriel.\n",
    "\n",
    "### Données\n",
    "\n",
    "Les données exploitées dans ce TD correspondent à des messages électroniques authentiques d'un employé de la compagnie Enron. Vous pouvez télécharger le jeux de données à partir du site web du cours. Le fichier doit être décompressé dans un dossier nommé *data* du répertoire courant de votre calepin Jupyter. \n",
    "\n",
    "Ces données ont déjà été utilisées dans le TD8. \n"
   ]
  },
  {
   "cell_type": "code",
   "execution_count": 1,
   "metadata": {},
   "outputs": [],
   "source": [
    "using Statistics"
   ]
  },
  {
   "cell_type": "markdown",
   "metadata": {},
   "source": [
    "## Préliminaires\n",
    "\n",
    "Cette section permet de dénombrer le nombre de courriels et de pourriels contenant chacun des mots répertoriés. Les deux dictionnaires suivants sont retournés :\n",
    "- ham_wordcounts\n",
    "- spam_word_counts"
   ]
  },
  {
   "cell_type": "code",
   "execution_count": 2,
   "metadata": {},
   "outputs": [],
   "source": [
    "\"\"\"\n",
    "wordlisting : Cette fonction transforme un fichier texte en une liste de mots. Le nombre de fois que\n",
    "              les mots apparaîssent ne sont pas répertorié.\n",
    "Input: filename::String le chemin du fichier texte \n",
    "Output: Array{Sting} Liste des mots contenus dans le fichier texte\n",
    "\"\"\"\n",
    "\n",
    "function wordlisting(filename::String)\n",
    "    \n",
    "    f = read(filename, String)\n",
    "    text = replace(f, r\"[0123456789]\" => \"\")\n",
    "    words = split(text, r\"\\W+\")\n",
    "    filter!(x -> length(x) > 1, words)\n",
    "    wordlist = unique(words)\n",
    "    \n",
    "end\n",
    "\n",
    "\"\"\"\n",
    "wordcounting : À partir d'un Array of Array contenant la liste des mots d'un ensemble de fichiers texte, la fonction \n",
    "               retourne le nombre de fois où chaque mot est présent.\n",
    "Input: Un array correspondant à la liste des mots pour chacun des fichiers texte \n",
    "Output: Dictionnaire compilant le nombre de ligne dans lesquelles chacun des mots apparaît.\n",
    "\"\"\"\n",
    "\n",
    "function wordcounting(A::Array{Array{SubString{String},1},1})\n",
    "   \n",
    "    words = vcat(A...)\n",
    "\n",
    "    wordcounts = Dict{String,Int64}()\n",
    "\n",
    "    for word in words\n",
    "        wordcounts[word]=get(wordcounts, word, 0) + 1\n",
    "    end\n",
    "    \n",
    "    return wordcounts\n",
    "    \n",
    "end\n",
    "\n",
    "\n",
    "# Récupération des noms de fichier de tous les hams\n",
    "filesdir = \"data/enron1/ham/\"\n",
    "filename_ham = filesdir.*readdir(filesdir)\n",
    "\n",
    "# Récupération des noms de fichier de tous les spams\n",
    "filesdir = \"data/enron1/spam/\"\n",
    "filename_spam = filesdir.*readdir(filesdir)\n",
    "\n",
    "ham_wordlist = wordlisting.(filename_ham)\n",
    "ham_wordcounts = wordcounting(ham_wordlist)\n",
    "\n",
    "spam_wordlist = wordlisting.(filename_spam)\n",
    "spam_wordcounts = wordcounting(spam_wordlist);\n",
    "\n"
   ]
  },
  {
   "cell_type": "markdown",
   "metadata": {},
   "source": [
    "## Exercice 1\n",
    "\n",
    "Programmation des fonctions utiles en théorie de l'information."
   ]
  },
  {
   "cell_type": "markdown",
   "metadata": {},
   "source": [
    "### (a) Entropie \n",
    "\n",
    "Programmez une fonction permettant de calculer l'entropie d'une variable aléatoire catégorielle $Y$ ayant comme argument le vecteur de probabilités des résulats possibles de $Y$.\n",
    "\n",
    "Testez votre fonction de la façon suivante :\n",
    "\n",
    "`p = [1/4,1/4,1/4,1/4]`\n",
    "\n",
    "`entropy(p)`"
   ]
  },
  {
   "cell_type": "code",
   "execution_count": 3,
   "metadata": {},
   "outputs": [
    {
     "data": {
      "text/plain": [
       "entropy (generic function with 1 method)"
      ]
     },
     "execution_count": 3,
     "metadata": {},
     "output_type": "execute_result"
    }
   ],
   "source": [
    "function entropy(p::Vector{<:Real})\n",
    "    \n",
    "    @assert isapprox(sum(p),1)\n",
    "    @assert all( 0 .<= p .<= 1 )\n",
    "    \n",
    "    H = 0.0\n",
    "    \n",
    "    for i in eachindex(p)\n",
    "    \n",
    "        if !isapprox(p[i],0)\n",
    "            H += -p[i] * log2(p[i])\n",
    "        end\n",
    "        \n",
    "    end\n",
    "        \n",
    "    return H\n",
    "    \n",
    "end"
   ]
  },
  {
   "cell_type": "code",
   "execution_count": 4,
   "metadata": {},
   "outputs": [
    {
     "data": {
      "text/plain": [
       "2.0"
      ]
     },
     "execution_count": 4,
     "metadata": {},
     "output_type": "execute_result"
    }
   ],
   "source": [
    "p = [1/4,1/4,1/4,1/4]\n",
    "\n",
    "entropy(p)"
   ]
  },
  {
   "cell_type": "markdown",
   "metadata": {},
   "source": [
    "### (b) Entropie croisée\n",
    "\n",
    "Programmez une fonction permettant de calculer l'entropie croisée d'une variable aléatoire catégorielle $Y$ ayant comme argument sont vecteur de probabilités des résulats possibles et comme deuxième argument la second vecteur de probabité correspondant à une autre fonction de masse pour $Y.\n",
    "\n",
    "Testez votre fonction de la façon suivante :\n",
    "\n",
    "`p = [1/2,1/4,1/8,1/8]`\n",
    "\n",
    "`q = [1/4,1/4,1/4,1/4]`\n",
    "\n",
    "`crossentropy(p,q)`"
   ]
  },
  {
   "cell_type": "code",
   "execution_count": 5,
   "metadata": {},
   "outputs": [
    {
     "data": {
      "text/plain": [
       "crossentropy (generic function with 1 method)"
      ]
     },
     "execution_count": 5,
     "metadata": {},
     "output_type": "execute_result"
    }
   ],
   "source": [
    "function crossentropy(p::Vector{<:Real},q::Vector{<:Real})\n",
    "    \n",
    "    @assert length(p) == length(q)\n",
    "    @assert isapprox(sum(p),1)\n",
    "    @assert all( 0 .<= p .<= 1 )\n",
    "    @assert isapprox(sum(q),1)\n",
    "    @assert all( 0 .<= q .<= 1 )\n",
    "        \n",
    "    H = 0.0\n",
    "    \n",
    "    for i in eachindex(p)\n",
    "    \n",
    "        H += -p[i] * log2(q[i])\n",
    "        \n",
    "    end\n",
    "        \n",
    "    return H\n",
    "    \n",
    "end"
   ]
  },
  {
   "cell_type": "code",
   "execution_count": 6,
   "metadata": {},
   "outputs": [
    {
     "data": {
      "text/plain": [
       "2.0"
      ]
     },
     "execution_count": 6,
     "metadata": {},
     "output_type": "execute_result"
    }
   ],
   "source": [
    "p = [1/2,1/4,1/8,1/8]\n",
    "q = [1/4,1/4,1/4,1/4]\n",
    "crossentropy(p,q)"
   ]
  },
  {
   "cell_type": "markdown",
   "metadata": {},
   "source": [
    "### (c) Divergence de Kullback-Leibler\n",
    "\n",
    "Programmez une fonction permettant de calculer la divergence de Kullback-Leibler entre les deux fonctions de masse caractérisées par les vecteurs de probabilités $p$ et $q$.\n",
    "\n",
    "Testez votre fonction de la façon suivante :\n",
    "\n",
    "`p = [1/2,1/4,1/8,1/8]`\n",
    "\n",
    "`q = [1/4,1/4,1/4,1/4]`\n",
    "\n",
    "`kullback(p,q)`"
   ]
  },
  {
   "cell_type": "code",
   "execution_count": 7,
   "metadata": {},
   "outputs": [
    {
     "data": {
      "text/plain": [
       "kullback (generic function with 1 method)"
      ]
     },
     "execution_count": 7,
     "metadata": {},
     "output_type": "execute_result"
    }
   ],
   "source": [
    "function kullback(p::Vector{<:Real}, q::Vector{<:Real})\n",
    "       \n",
    "    kl = -entropy(p) + crossentropy(p,q)\n",
    "    \n",
    "    return kl\n",
    "    \n",
    "end"
   ]
  },
  {
   "cell_type": "code",
   "execution_count": 8,
   "metadata": {},
   "outputs": [
    {
     "data": {
      "text/plain": [
       "0.25"
      ]
     },
     "execution_count": 8,
     "metadata": {},
     "output_type": "execute_result"
    }
   ],
   "source": [
    "p = [1/2,1/4,1/8,1/8]\n",
    "q = [1/4,1/4,1/4,1/4]\n",
    "kullback(p,q)"
   ]
  },
  {
   "cell_type": "markdown",
   "metadata": {},
   "source": [
    "## Exercice 2 \n",
    "\n",
    "Estimation des lois conjointes et marginales des variables $X$ et $Y$ avec le jeu de données."
   ]
  },
  {
   "cell_type": "markdown",
   "metadata": {},
   "source": [
    "### (a) Soit le mot *enron*, construisez le tableau des fréquences observées de la variable $X$ et $Y$.\n",
    "\n",
    "Ce tableau des fréquences observées est illustré à l'exemple 8 du Chapitre 9 des notes de cours. Servez vous des dictionnaires ham_wordcounts et spam_wordcounts."
   ]
  },
  {
   "cell_type": "code",
   "execution_count": 9,
   "metadata": {},
   "outputs": [
    {
     "data": {
      "text/plain": [
       "2×2 Array{Int64,2}:\n",
       " 1500  2210\n",
       "    0  1462"
      ]
     },
     "execution_count": 9,
     "metadata": {},
     "output_type": "execute_result"
    }
   ],
   "source": [
    "mot = \"enron\"\n",
    "\n",
    "n₀ = length(filename_spam)\n",
    "n₁ = length(filename_ham)\n",
    "n = n₀ + n₁\n",
    "\n",
    "if haskey(spam_wordcounts, mot)\n",
    "    n₀₁ = spam_wordcounts[mot]\n",
    "else\n",
    "    n₀₁ = 0\n",
    "end\n",
    "\n",
    "if haskey(ham_wordcounts,mot)\n",
    "    n₁₁ = ham_wordcounts[mot]\n",
    "else\n",
    "    n₁₁ = 0\n",
    "end\n",
    "\n",
    "T = [n₀-n₀₁ n₁-n₁₁ ; n₀₁ n₁₁]"
   ]
  },
  {
   "cell_type": "markdown",
   "metadata": {},
   "source": [
    "### (b) Avec le tableau des fréquences observées, estimez la loi de probabilité conjointe de $X$ et $Y$.\n",
    "\n",
    "Produisez un vecteur de probabilités représentant les 4 possibilités."
   ]
  },
  {
   "cell_type": "code",
   "execution_count": 10,
   "metadata": {},
   "outputs": [
    {
     "data": {
      "text/plain": [
       "2×2 Array{Float64,2}:\n",
       " 0.290023  0.427301\n",
       " 0.0       0.282676"
      ]
     },
     "execution_count": 10,
     "metadata": {},
     "output_type": "execute_result"
    }
   ],
   "source": [
    "p = T/n"
   ]
  },
  {
   "cell_type": "markdown",
   "metadata": {},
   "source": [
    "### (c) Avec le tableau des fréquences observées, estimez la loi de probabilité conjointe de $X$ et $Y$ estimée à l'aide du produit des lois marginales.\n",
    "\n",
    "Produisez un vecteur de probabilités représentant les 4 possibilités."
   ]
  },
  {
   "cell_type": "code",
   "execution_count": 11,
   "metadata": {},
   "outputs": [
    {
     "data": {
      "text/plain": [
       "2×2 Array{Float64,2}:\n",
       " 0.208041   0.509283\n",
       " 0.0819826  0.200693"
      ]
     },
     "execution_count": 11,
     "metadata": {},
     "output_type": "execute_result"
    }
   ],
   "source": [
    "p_X = sum(T,dims=1)/n\n",
    "p_Y = sum(T,dims=2)/n\n",
    "q = p_Y * p_X"
   ]
  },
  {
   "cell_type": "markdown",
   "metadata": {},
   "source": [
    "### (d) Estimez l'information mutuelle entre $X$ et $Y$.\n",
    "\n",
    "Utilisez la loi conjointe estimée et le produit des lois marginales estimées dans la divergence de Kullback-Leibler."
   ]
  },
  {
   "cell_type": "code",
   "execution_count": 12,
   "metadata": {},
   "outputs": [
    {
     "data": {
      "text/plain": [
       "0.17049542401082207"
      ]
     },
     "execution_count": 12,
     "metadata": {},
     "output_type": "execute_result"
    }
   ],
   "source": [
    "p = vec(p)\n",
    "q = vec(q)\n",
    "kullback(p,q)"
   ]
  },
  {
   "cell_type": "markdown",
   "metadata": {},
   "source": [
    "## Exercice 3\n",
    "\n",
    "Identification des mots les plus discriminants."
   ]
  },
  {
   "cell_type": "markdown",
   "metadata": {},
   "source": [
    "### (a) En reprenant la méthode de l'exercice 2, calculez l'information mutuelle pour tous les mots contenus dans les messages."
   ]
  },
  {
   "cell_type": "code",
   "execution_count": 13,
   "metadata": {},
   "outputs": [
    {
     "data": {
      "text/plain": [
       "minfo (generic function with 1 method)"
      ]
     },
     "execution_count": 13,
     "metadata": {},
     "output_type": "execute_result"
    }
   ],
   "source": [
    "function minfo(mot::String)\n",
    "    n₀ = length(filename_spam)\n",
    "    n₁ = length(filename_ham)\n",
    "    n = n₀ + n₁\n",
    "\n",
    "    if haskey(spam_wordcounts, mot)\n",
    "        n₀₁ = spam_wordcounts[mot]\n",
    "    else\n",
    "        n₀₁ = 0\n",
    "    end\n",
    "\n",
    "    if haskey(ham_wordcounts,mot)\n",
    "        n₁₁ = ham_wordcounts[mot]\n",
    "    else\n",
    "        n₁₁ = 0\n",
    "    end\n",
    "\n",
    "    T = [n₀-n₀₁ n₁-n₁₁ ; n₀₁ n₁₁]\n",
    "    \n",
    "    p = T/n\n",
    "    \n",
    "    p_X = sum(T,dims=1)/n\n",
    "    p_Y = sum(T,dims=2)/n\n",
    "    q = p_Y * p_X\n",
    "    \n",
    "    p = vec(p)\n",
    "    q = vec(q)\n",
    "    \n",
    "    mutualInfo = kullback(p,q)\n",
    "    \n",
    "    return mutualInfo\n",
    "    \n",
    "end"
   ]
  },
  {
   "cell_type": "code",
   "execution_count": 14,
   "metadata": {},
   "outputs": [],
   "source": [
    "liste_mot = unique(union(collect(keys(ham_wordcounts)), collect(keys(spam_wordcounts))))\n",
    "\n",
    "mutualInfo = Float64[]\n",
    "\n",
    "for mot in liste_mot\n",
    "\n",
    "    push!(mutualInfo, minfo(mot))\n",
    "    \n",
    "end"
   ]
  },
  {
   "cell_type": "markdown",
   "metadata": {},
   "source": [
    "### (b) Selon l'information mutuelle, quels sont les 10 mots les plus dépendants de $Y$ ?"
   ]
  },
  {
   "cell_type": "code",
   "execution_count": 15,
   "metadata": {},
   "outputs": [
    {
     "data": {
      "text/plain": [
       "10-element Array{String,1}:\n",
       " \"Subject\"  \n",
       " \"enron\"    \n",
       " \"cc\"       \n",
       " \"hpl\"      \n",
       " \"daren\"    \n",
       " \"http\"     \n",
       " \"gas\"      \n",
       " \"forwarded\"\n",
       " \"pm\"       \n",
       " \"ect\"      "
      ]
     },
     "execution_count": 15,
     "metadata": {},
     "output_type": "execute_result"
    }
   ],
   "source": [
    "ind = sortperm(mutualInfo, rev=true)\n",
    "mot_discriminant = liste_mot[ind]\n",
    "mot_discriminant[1:10]"
   ]
  },
  {
   "cell_type": "code",
   "execution_count": null,
   "metadata": {},
   "outputs": [],
   "source": []
  }
 ],
 "metadata": {
  "kernelspec": {
   "display_name": "Julia 1.2.0",
   "language": "julia",
   "name": "julia-1.2"
  },
  "language_info": {
   "file_extension": ".jl",
   "mimetype": "application/julia",
   "name": "julia",
   "version": "1.2.0"
  }
 },
 "nbformat": 4,
 "nbformat_minor": 2
}
