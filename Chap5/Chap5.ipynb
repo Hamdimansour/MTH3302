{
 "cells": [
  {
   "cell_type": "markdown",
   "metadata": {},
   "source": [
    "# MTH3302 : Méthodes probabilistes et statistiques pour l'I.A.\n",
    "\n",
    "Jonathan Jalbert<br/>\n",
    "Professeur adjoint au Département de mathématiques et de génie industriel<br/>\n",
    "Polytechnique Montréal<br/>\n",
    "\n",
    "\n",
    "# Chapitre 5 : Modèles bayésiens pour la loi normale\n",
    "\n",
    "Dans ce chapitre, nous utiliserons le jeu de données normaldata disponible sur le site web du cours. Ces données proviennent de l'expérience de Michelson-Morley effectuée par Illingworth en 1927 dans le but de mesurer la différence de la vitesse de la lumière dans deux directions orthogonales, dont l'une des directions est parallèle à la vitesse de l'éther et l'autre est orthogonale. La différence de vitesse a été mesurée par interférométrie en calculant le déplacement des franges d'interférence. La première colonne indique le temps de la journée où les essais se sont déroulés et la deuxième colonne correspond au déplacement moyen des franges d'interférence pour 10 essais indépendants.\n",
    "\n",
    "Pour le montage expérimental de Illingworth en 1927, ce-dernier a estimé que l'erreur de mesure de son montage  correspondait à un écart-type de $0.75$ frange de déplacement. Il supposa que chacune des $n=64$ mesures étaient distribuées selon la loi normale $ Y_i \\sim \\mathcal{N}(\\mu,0.75^2)$ où le paramètre $\\mu$ inconnu correspond au vrai déplacement des franges d'interférence. Le nombre moyen du déplacement des franges d'interférence pour les 64 essais est de $\\bar{y} = -0.015$.\n",
    "\n",
    "Installation et chargement des librairies nécessaires."
   ]
  },
  {
   "cell_type": "code",
   "execution_count": null,
   "metadata": {},
   "outputs": [],
   "source": [
    "# using Pkg\n",
    "# Pkg.add(\"SpecialFunctions\")"
   ]
  },
  {
   "cell_type": "code",
   "execution_count": null,
   "metadata": {},
   "outputs": [],
   "source": [
    "# Chargement des librairies\n",
    "using CSV, DataFrames             # Pour charger et organiser les données\n",
    "using Gadfly                      # Pour générer des graphiques\n",
    "using LinearAlgebra               # Pour utiliser les fonctions d'algèbre linéaire\n",
    "using Statistics                  # Libriairie contenant des fonctions statistiques de base\n",
    "using SpecialFunctions            # Librairie contenant notamment la fonction Gamma\n",
    "using Distributions               # Librairie contenant les lois statistiques"
   ]
  },
  {
   "cell_type": "markdown",
   "metadata": {},
   "source": [
    "## 5.0 Chargement des données et analyse exploratoire"
   ]
  },
  {
   "cell_type": "code",
   "execution_count": null,
   "metadata": {},
   "outputs": [],
   "source": [
    "# Chargement des observations effectuées par Illingworth en 1927 sur l'expérience de Michelson-Morley\n",
    "data = CSV.read(\"normaldata.csv\")\n",
    "first(data,5)"
   ]
  },
  {
   "cell_type": "code",
   "execution_count": null,
   "metadata": {},
   "outputs": [],
   "source": [
    "# Calcul des statistiques descriptives du jeu de données\n",
    "\n",
    "n = length(data[:,:FringeDispl])\n",
    "ȳ = mean(data[:,:FringeDispl])\n",
    "s² = var(data[:,:FringeDispl])\n",
    "\n",
    "println(\"Il y a $n observations.\")\n",
    "println(\"La moyenne des $n observations est de $ȳ.\")\n",
    "println(\"La variance des $n observations est de $(s²).\")"
   ]
  },
  {
   "cell_type": "code",
   "execution_count": null,
   "metadata": {},
   "outputs": [],
   "source": [
    "# Afficher les observations mesurées par Illingworth en fonction du moment de la journée\n",
    "\n",
    "plot(data, x=:TimeOfDay, y=:FringeDispl, Geom.point)"
   ]
  },
  {
   "cell_type": "code",
   "execution_count": null,
   "metadata": {},
   "outputs": [],
   "source": [
    "# Afficher l'histogramme des déplacements des franges d'interférence\n",
    "\n",
    "nbin = round(sqrt(n))\n",
    "\n",
    "plot(data, x=:FringeDispl, Geom.histogram(bincount=nbin))"
   ]
  },
  {
   "cell_type": "markdown",
   "metadata": {},
   "source": [
    "## 5.1 Modèle gaussien\n",
    "\n",
    "On estime le paramètre inconnu $\\mu$ de la loi normale par la méthode du maximum de la vraisemblance. On peut par la suite calculer un intervalle de confiance de niveau 95% pour $\\mu$. Rappelons que l'on suppose que la variance est connue et est égale à $\\sigma^2 = 0.75^2$."
   ]
  },
  {
   "cell_type": "code",
   "execution_count": null,
   "metadata": {},
   "outputs": [],
   "source": [
    "# Estimation ponctuelle\n",
    "println(\"μ̂ = \",ȳ)\n",
    "\n",
    "# Estimation par intervalle de confiance\n",
    "a = ȳ - 1.96*0.75\n",
    "b = ȳ + 1.96*0.75\n",
    "println(\"Intervalle de confiance à 95% : [$a,$b]\")\n"
   ]
  },
  {
   "cell_type": "markdown",
   "metadata": {},
   "source": [
    "## 5.2 Estimation bayésienne de $\\mu$ lorsque la variance est connue\n",
    "\n",
    "On estime le paramètre inconnu $\\mu$ de la loi normale par la méthode bayésienne. On suppose que la variance est connue et est égale à $\\sigma^2 = 0.75^2$."
   ]
  },
  {
   "cell_type": "markdown",
   "metadata": {},
   "source": [
    "### 5.2.2 Loi a priori normale\n",
    "\n",
    "Pour la vraisemblance normale avec la variance connue, la loi *a priori* conjuguée pour la moyenne $\\mu$ est la loi normale. Utilisons la loi moyenne nulle et de variance $\\sigma^2 = 0.75^2$ comme loi a priori. La loi *a posteriori* est donc aussi gaussienne."
   ]
  },
  {
   "cell_type": "code",
   "execution_count": null,
   "metadata": {},
   "outputs": [],
   "source": [
    "# la variance est connue\n",
    "σ = 0.75\n",
    "\n",
    "# définition de la loi a priori\n",
    "prior = Normal(0,σ)\n",
    "\n",
    "# Stockage des densités dans un DataFrame pour un affichage rapide\n",
    "x = range(-1,stop=1,length=501)\n",
    "df = DataFrame(μ = x)\n",
    "df[!,Symbol(\"n=0\")] = pdf.(prior,x)\n",
    "\n",
    "# calcul de la loi a posteriori pour n=5 observations\n",
    "n = 5\n",
    "ȳ = mean(data[1:n,:FringeDispl])\n",
    "posterior = Normal(n/(n+1)*ȳ,σ/sqrt(n+1))\n",
    "df[!,Symbol(\"n=5\")] = pdf.(posterior,x)\n",
    "\n",
    "# calcul de la loi a posteriori pour les n=64 observations\n",
    "n = length(data[:,:FringeDispl])\n",
    "ȳ = mean(data[1:n,:FringeDispl])\n",
    "posterior = Normal(n/(n+1)*ȳ,σ/sqrt(n+1))\n",
    "df[!,Symbol(\"n=64\")] = pdf.(posterior,x)\n",
    "\n",
    "df = melt(df, :μ)\n",
    "rename!(df, :value => :densité, :variable => :observations)\n",
    "\n",
    "plot(df,x=:μ, y=:densité, color=:observations, Geom.line)\n"
   ]
  },
  {
   "cell_type": "markdown",
   "metadata": {},
   "source": [
    "## 5.2.4 Loi a priori non informative\n",
    "\n",
    "Utilisons la loi *a priori* non-informative impropre suivante pour $\\mu$ :\n",
    "$$f_\\mu(\\mu) \\propto 1.$$"
   ]
  },
  {
   "cell_type": "code",
   "execution_count": null,
   "metadata": {},
   "outputs": [],
   "source": [
    "# la variance est connue\n",
    "σ = 0.75\n",
    "\n",
    "# définition de la loi a priori\n",
    "prior = Normal(0,σ)\n",
    "\n",
    "# Stockage des densités dans un DataFrame pour un affichage rapide\n",
    "x = range(-1,stop=1,length=501)\n",
    "df = DataFrame(μ = x)\n",
    "df[!,Symbol(\"n=0\")] = pdf.(prior,x)\n",
    "\n",
    "# calcul de la loi a posteriori pour n=5 observations\n",
    "n = 5\n",
    "ȳ = mean(data[1:n,:FringeDispl])\n",
    "posterior = Normal(ȳ,σ/sqrt(n))\n",
    "df[!,Symbol(\"n=5\")] = pdf.(posterior,x)\n",
    "\n",
    "# calcul de la loi a posteriori pour n=564 observations\n",
    "n = length(data[:,:FringeDispl])\n",
    "ȳ = mean(data[1:n,:FringeDispl])\n",
    "posterior = Normal(ȳ,σ/sqrt(n))\n",
    "df[!,Symbol(\"n=64\")] = pdf.(posterior,x)\n",
    "\n",
    "df = melt(df, :μ)\n",
    "rename!(df, :value => :densité, :variable => :observations)\n",
    "\n",
    "plot(df,x=:μ, y=:densité, color=:observations, Geom.line)\n"
   ]
  },
  {
   "cell_type": "markdown",
   "metadata": {},
   "source": [
    "Comparaison des lois *a posteriori* en fonction du caractère informatif ou non-informatif de la loi *a priori*."
   ]
  },
  {
   "cell_type": "code",
   "execution_count": null,
   "metadata": {},
   "outputs": [],
   "source": [
    "\n",
    "# Calcul de la loi a posteriori\n",
    "n = 5\n",
    "ȳ = mean(data[1:n,:FringeDispl])\n",
    "posterior_info = Normal(n/(n+1)*ȳ,σ/sqrt(n+1))\n",
    "posterior_noninfo = Normal(ȳ,σ/sqrt(n))\n",
    "\n",
    "# Affichage de la loi a priori et de la loi a posteriori\n",
    "x = range(-1,stop=1,length=101)\n",
    "\n",
    "infoLayer = layer(x=x, y=pdf.(posterior_info,x), Geom.line, Theme(default_color=\"deepskyblue\"))\n",
    "noninfoLayer = layer(x=x, y=pdf.(posterior_noninfo,x), Geom.line, Theme(default_color=\"red\"))\n",
    "fig1 = plot(infoLayer, noninfoLayer, Guide.xlabel(\"μ\"), Guide.title(\"n=5\"),\n",
    "    Guide.manual_color_key(\"Légende\", [\"Informatif\", \"Non informatif\"], [\"deepskyblue\",\"red\"]))\n",
    "\n",
    "\n",
    "ȳ = mean(data[:,:FringeDispl])\n",
    "n = size(data,1)\n",
    "posterior_info = Normal(n/(n+1)*ȳ,σ/sqrt(n+1))\n",
    "posterior_noninfo = Normal(ȳ,σ/sqrt(n))\n",
    "\n",
    "# Affichage de la loi a priori et de la loi a posteriori\n",
    "x = range(-.5,stop=.5,length=101)\n",
    "\n",
    "infoLayer = layer(x=x, y=pdf.(posterior_info,x), Geom.line, Theme(default_color=\"deepskyblue\"))\n",
    "noninfoLayer = layer(x=x, y=pdf.(posterior_noninfo,x), Geom.line, Theme(default_color=\"red\"))\n",
    "fig2 = plot(infoLayer, noninfoLayer, Guide.xlabel(\"μ\"), Guide.title(\"n=64\"),\n",
    "    Guide.manual_color_key(\"Légende\", [\"Informatif\", \"Non informatif\"], [\"deepskyblue\",\"red\"]))\n",
    "\n",
    "set_default_plot_size(10inch, 4inch)\n",
    "gridstack([fig1 fig2])\n"
   ]
  },
  {
   "cell_type": "markdown",
   "metadata": {},
   "source": [
    "### 5.2.5 Estimation bayésienne ponctuelle\n",
    "\n",
    "Utilisons la loi *a priori* non-informative. Puisque la loi *a posteriori* est symétrique, la moyenne et le mode concordent."
   ]
  },
  {
   "cell_type": "code",
   "execution_count": null,
   "metadata": {},
   "outputs": [],
   "source": [
    "# Estimation ponctuelle\n",
    "μ̂ = ȳ\n",
    "println(\"μ̂ = \",μ̂)\n",
    "\n",
    "# Une autre façon d'obtenir l'estimation aurait été à l'aide de la fonction mode ou mean de la librairie Distributions.\n",
    "# posterior = Normal(ȳ,σ/sqrt(n))\n",
    "# μ̂ = mean(posterior)\n",
    "# μ̂ = mode(posterior)"
   ]
  },
  {
   "cell_type": "markdown",
   "metadata": {},
   "source": [
    "### 5.2.6 Estimation par intervalle de crédibilité bayésien\n",
    "\n",
    "Utilisons la loi *a priori* non-informative. Puisque la loi *a posteriori* est symétrique, l'intervalle de crédibilité usuel et l'intervalle de plus haute densité *a posteriori* concordent."
   ]
  },
  {
   "cell_type": "code",
   "execution_count": null,
   "metadata": {},
   "outputs": [],
   "source": [
    "posterior = Normal(ȳ,σ/sqrt(n))\n",
    "\n",
    "I = quantile.(posterior,[.025 .975])\n",
    "\n",
    "println(\"L'intervalle de crédibilité bayésien de niveau 95% pour μ est [$(I[1]) , $(I[2])].\")"
   ]
  },
  {
   "cell_type": "markdown",
   "metadata": {},
   "source": [
    "### 5.2.7 Distribution prédictive\n",
    "\n",
    "Utilisons la loi *a priori* non-informative."
   ]
  },
  {
   "cell_type": "code",
   "execution_count": null,
   "metadata": {},
   "outputs": [],
   "source": [
    "predictive = Normal(ȳ,sqrt( (n+1)/n )*σ )\n",
    "\n",
    "x = range(-.5,stop=.5,length=501)\n",
    "df = DataFrame(ỹ = x)\n",
    "df[!,:f] = pdf.(posterior,x)\n",
    "\n",
    "set_default_plot_size(5inch, 4inch)\n",
    "plot(df, x=:ỹ, y=:f, Geom.line)"
   ]
  },
  {
   "cell_type": "markdown",
   "metadata": {},
   "source": [
    "## 5.2.3 Loi a priori informative non conjuguée\n",
    "\n",
    "Utilisons maintenant la loi de Student centrée réduite à 5 degrés de libertés comme loi a priori. Dans ce cas, la loi a posteriori ne s'exprime pas sous une forme analytique. Il faudra recourir à l'algorithme de Metropolis-Hastings pour générer une échantillon de la loi a posteriori et estimer la moyenne et l'intervalle de crédibilité."
   ]
  },
  {
   "cell_type": "markdown",
   "metadata": {},
   "source": [
    "Dans un premier temps, la densité (ou plutôt la log densité) de la loi de Student à $\\nu$ degrés de liberté et avec le paramètre de localisation $\\mu$ et le paramètre d'échelle $\\sigma$ doit être implantée dans Julia. C'est ce que fait la fonction suivante."
   ]
  },
  {
   "cell_type": "code",
   "execution_count": null,
   "metadata": {},
   "outputs": [],
   "source": [
    "# Implémentation de la densité Student à ν degrés de liberté avec paramètres de localisation μ et d'échelle σ\n",
    "function Studentpdf(y::Real,ν::Int,μ::Real,σ::Real)\n",
    "    \n",
    "    @assert σ > 0 \"The scale parameter must be positive\"\n",
    "    \n",
    "    z = (y-μ)/σ\n",
    "    \n",
    "    density = gamma( (ν+1)/2 ) / gamma(ν/2) / sqrt(ν*π) / sqrt(σ) * (1 + 1/ν * z^2 )^(-ν/2-1/2)\n",
    "    \n",
    "    return density\n",
    "    \n",
    "end\n",
    "\n",
    "# Implémentation du log de la densité Student à ν degrés de liberté avec paramètres de localisation μ et d'échelle σ\n",
    "function Studentlogpdf(y::Float64,ν::Int64,μ::Float64,σ::Float64)\n",
    "    \n",
    "    @assert σ > 0 \"The scale parameter must be positive\"\n",
    "    \n",
    "    z = (y-μ)/σ\n",
    "    \n",
    "    logdensity = lgamma( (ν+1)/2 ) - lgamma(ν/2) - 1/2*log(ν*π) - 1/2*log(σ)  - 1/2*(ν+1)*log(1 + (z^2)/ν )\n",
    "    \n",
    "    return logdensity\n",
    "    \n",
    "end"
   ]
  },
  {
   "cell_type": "markdown",
   "metadata": {},
   "source": [
    "Pour mettre en oeuvre l'algorithme de Metropolis-Hastings, on doit évaluer le log de la vraisemblance plus le log de la loi a priori. La fonction suivante permet de simplifier l'écriture de cette évaluation."
   ]
  },
  {
   "cell_type": "code",
   "execution_count": null,
   "metadata": {},
   "outputs": [],
   "source": [
    "function logf(y::Array{Float64},μ::Float64)\n",
    "    \n",
    "    ldens = sum( logpdf.(Normal(μ,σ),y) ) + Studentlogpdf(μ,5,0.0,1.0)\n",
    "    \n",
    "end"
   ]
  },
  {
   "cell_type": "code",
   "execution_count": null,
   "metadata": {},
   "outputs": [],
   "source": [
    "\n",
    "NITER = 1000\n",
    "\n",
    "μ = zeros(NITER)\n",
    "acc_cand = falses(NITER)\n",
    "\n",
    "y = data[:,:FringeDispl]\n",
    "n = length(y)\n",
    "\n",
    "# état initial de la chaîne\n",
    "μ[1] = -1\n",
    "\n",
    "for j=2:NITER\n",
    "\n",
    "    # proposition du candidat\n",
    "    cand = μ[j-1] + rand(Normal(0,.15))\n",
    "    \n",
    "    # évaluation du ln ρ \n",
    "    lr = logf(y,cand) - logf(y,μ[j-1])\n",
    "    \n",
    "    # génération d'une valeur de la loi uniforme sur l'intervalle (0,1)\n",
    "    u = rand(Uniform(0,1))\n",
    "    \n",
    "    # acceptation ou refus du candidat\n",
    "    if lr > log(u)\n",
    "        μ[j] = cand\n",
    "        acc_cand[j] = true \n",
    "    else\n",
    "        μ[j] = μ[j-1]\n",
    "    end\n",
    "    \n",
    "end\n",
    "\n",
    "pct = count(acc_cand)/NITER\n",
    "\n",
    "println(\"Pourcentage d'acceptation des candidats = $pct\")\n",
    "\n",
    "MCMC = DataFrame(iter = collect(1:NITER), μ = μ)\n",
    "\n",
    "plot(MCMC, x=:iter, y=:μ, Geom.line)\n"
   ]
  },
  {
   "cell_type": "markdown",
   "metadata": {},
   "source": [
    "### Affichage de la loi a posteriori estimée"
   ]
  },
  {
   "cell_type": "code",
   "execution_count": null,
   "metadata": {},
   "outputs": [],
   "source": [
    "# Afficher l'histogramme des données\n",
    "WARMUP = 100\n",
    "MCMC = MCMC[WARMUP+1:end,:]\n",
    "m = size(MCMC,1)\n",
    "\n",
    "set_default_plot_size(14cm, 8cm)\n",
    "plot(MCMC, x=:μ, Geom.histogram(bincount=round(sqrt(m))))"
   ]
  },
  {
   "cell_type": "code",
   "execution_count": null,
   "metadata": {},
   "outputs": [],
   "source": [
    "# Estimation ponctuelle\n",
    "x = MCMC[:,:μ]\n",
    "μ̂ = mean(x)\n",
    "println(\"μ̂ = \",μ̂)\n",
    "\n",
    "# Estimation par intervalle de confiance\n",
    "a = quantile(x,.025)\n",
    "b = quantile(x,.975)\n",
    "println(\"Intervalle de confiance à 95% : [$a,$b]\")"
   ]
  },
  {
   "cell_type": "markdown",
   "metadata": {},
   "source": [
    "## 5.3 Estimation bayésienne de $\\mu$ et $\\sigma^2$\n",
    "\n",
    "On estime les paramètre inconnus $\\mu$ et $\\sigma^2$ de la loi normale par la méthode bayésienne."
   ]
  },
  {
   "cell_type": "markdown",
   "metadata": {},
   "source": [
    "## 5.3.2 Loi a priori non informative\n",
    "\n",
    "Si on prend la loi a priori impropre non informative \n",
    "$$f_{(\\mu,\\sigma^2)}(\\mu,\\sigma^2) \\propto \\frac{1}{\\sigma^2},$$\n",
    "alors la loi a posteriori ne s'exprime pas sous une forme connue. Il n'y a que les lois conditionnelles complètes complètes $f_{(\\mu|Y=y,\\sigma^2)}(\\mu)$ et $f_{(\\sigma^2|Y=y,\\mu)}(\\sigma^2)$ qui s'expriment sous une forme connue.\n"
   ]
  },
  {
   "cell_type": "code",
   "execution_count": null,
   "metadata": {},
   "outputs": [],
   "source": [
    "# Loi conditionnelle complète de μ et σ²\n",
    "\n",
    "y = data[:,:FringeDispl]\n",
    "n = length(y)\n",
    "\n",
    "ȳ = mean(y)\n",
    "s² = var(y)\n",
    "\n",
    "μ_ccd(σ²) = Normal(ȳ,sqrt(σ²/n))\n",
    "σ²_ccd(μ) = InverseGamma(n/2, 1/2*sum( (y[i]-μ)^2 for i=1:n ))"
   ]
  },
  {
   "cell_type": "markdown",
   "metadata": {},
   "source": [
    "### Échantillonnage de Gibbs\n",
    "\n",
    "Les deux lois conditionnelles complètes permettent d'implémenter l'échantillonnage de Gibbs pour générer un échantillon de la loi a posteriori."
   ]
  },
  {
   "cell_type": "code",
   "execution_count": null,
   "metadata": {},
   "outputs": [],
   "source": [
    "NITER = 1000\n",
    "μ = Array{Float64}(undef, NITER)\n",
    "σ² = Array{Float64}(undef, NITER)\n",
    "\n",
    "μ[1] = -.2\n",
    "σ²[1] = .15\n",
    "\n",
    "for i=2:NITER\n",
    "   \n",
    "    μ[i] = rand(μ_ccd(σ²[i-1]))\n",
    "    \n",
    "    σ²[i] = rand(σ²_ccd(μ[i]))\n",
    "    \n",
    "end\n",
    "\n",
    "# Stockage des résulats dans un dataframe\n",
    "MCMC = DataFrame(Iter = 1:NITER, μ = μ, σ² = σ²);"
   ]
  },
  {
   "cell_type": "code",
   "execution_count": null,
   "metadata": {},
   "outputs": [],
   "source": [
    "set_default_plot_size(10inch, 4inch)\n",
    "fig1 = plot(MCMC, x=:Iter, y=:μ, Geom.line)\n",
    "fig2 = plot(MCMC, x=:Iter, y=:σ², Geom.line)\n",
    "hstack(fig1,fig2)"
   ]
  },
  {
   "cell_type": "code",
   "execution_count": null,
   "metadata": {},
   "outputs": [],
   "source": [
    "# Retirer les itérations correspondantes à la phase de chauffe de l'algorithme\n",
    "WARMUP = 100\n",
    "ind = MCMC[:,:Iter] .<= 100\n",
    "deleterows!(MCMC, ind)\n",
    "m = size(MCMC,1)\n",
    "\n",
    "# traçage des densités marginales a posteriori\n",
    "fig1 = plot(MCMC,x=:μ, Geom.histogram(bincount=round(sqrt(m))))\n",
    "fig2 = plot(MCMC,x=:σ², Geom.histogram(bincount=round(sqrt(m))))\n",
    "hstack(fig1,fig2)"
   ]
  },
  {
   "cell_type": "markdown",
   "metadata": {},
   "source": [
    "### Calcul d'un estimateur ponctuel de $\\mu$ et d'un intervalle de crédibilité à 95%\n",
    "\n",
    "Vous remarquerez que l'intervalle de crédibilité pour $\\mu$ est beaucoup plus court que lorsque l'on supposait la variance connue."
   ]
  },
  {
   "cell_type": "code",
   "execution_count": null,
   "metadata": {},
   "outputs": [],
   "source": [
    "# Estimation ponctuelle\n",
    "x = MCMC[:,:μ]\n",
    "μ̂ = mean(x)\n",
    "println(\"μ̂ = \",μ̂)\n",
    "\n",
    "# Estimation par intervalle de confiance\n",
    "a = quantile(x,.025)\n",
    "b = quantile(x,.975)\n",
    "println(\"Intervalle de confiance à 95% : [$a,$b]\")"
   ]
  },
  {
   "cell_type": "markdown",
   "metadata": {},
   "source": [
    "### Calcul d'un estimateur ponctuel de $\\sigma$ et d'un intervalle de crédibilité à 95%\n",
    "\n",
    "Ici, on souhaite obtenir une estimation de $\\sigma$ et non de $\\sigma^2$.\n",
    "\n",
    "On remarquera que l'erreur expérimentale associée au montage de Illingworth correspond à environ 0.20 franges d'interférence de déplacement. Illingworth a donc largement sous-estimé la précision de son montage."
   ]
  },
  {
   "cell_type": "code",
   "execution_count": null,
   "metadata": {},
   "outputs": [],
   "source": [
    "# Estimation ponctuelle\n",
    "x = MCMC[:,:σ²]\n",
    "x = sqrt.(x)\n",
    "σ̂ = mean(x)\n",
    "println(\"σ̂ = \", σ̂)\n",
    "\n",
    "# Estimation par intervalle de confiance\n",
    "a = quantile(x,.025)\n",
    "b = quantile(x,.975)\n",
    "println(\"Intervalle de confiance à 95% : [$a,$b]\")"
   ]
  },
  {
   "cell_type": "markdown",
   "metadata": {},
   "source": [
    "## 5.3.3 Densité marginale a posteriori de $\\mu$.\n",
    "\n",
    "Dans le cas de la vraisemblance normale avec une loi a priori partiellement conjuguée ou non informative, on peut obtenir une expression analytique pour la loi de $\\mu$ a posteriori en intégrant $\\sigma^2$ de la loi a posteriori. La loi de correspondant à l'histogramme de $\\mu$ présenté précédemment est une loi de Student.\n"
   ]
  },
  {
   "cell_type": "code",
   "execution_count": null,
   "metadata": {},
   "outputs": [],
   "source": [
    "s² = var(y)\n",
    "\n",
    "xgrid = range(-.15, stop=.15,length=101)\n",
    "\n",
    "μ_marg = DataFrame(μ=xgrid, density=Studentpdf.(xgrid,n-1,ȳ,sqrt(s²/n))) \n",
    "\n",
    "plot(μ_marg, x=:μ, y=:density, Geom.line )"
   ]
  },
  {
   "cell_type": "markdown",
   "metadata": {},
   "source": [
    "## 5.4 Sélection de modèle\n",
    "\n",
    "Dans le cas de l'expérience de Illingworth, on a deux modèles possibles :\n",
    "- le modèle $M_1$ supposant la variance connue et égale à $0.75^2$ ;\n",
    "- le modèle $M_2$ supposant la variance inconnue."
   ]
  },
  {
   "cell_type": "markdown",
   "metadata": {},
   "source": [
    "### Calculons le BIC du premier modèle\n",
    "\n",
    "On utilisera ici les estimateurs du maximum de la vraisemblance par simplicité."
   ]
  },
  {
   "cell_type": "code",
   "execution_count": null,
   "metadata": {},
   "outputs": [],
   "source": [
    "y = data[:,:FringeDispl]\n",
    "ȳ = mean(y)\n",
    "\n",
    "μ̂ = ȳ\n",
    "σ = 0.75 # variance supposée connue\n",
    "n = size(data,1)\n",
    "\n",
    "k = 1 # nombre de paramètres inconnus\n",
    "\n",
    "BIC₁ = sum( logpdf.(Normal(μ̂, σ), y) ) - k/2*log(n)"
   ]
  },
  {
   "cell_type": "markdown",
   "metadata": {},
   "source": [
    "### Calculons le BIC du deuxième modèle\n",
    "\n",
    "On utilisera ici les estimateurs du maximum de la vraisemblance par simplicité."
   ]
  },
  {
   "cell_type": "code",
   "execution_count": null,
   "metadata": {},
   "outputs": [],
   "source": [
    "y = data[:,:FringeDispl]\n",
    "ȳ = mean(y)\n",
    "\n",
    "μ̂ = ȳ\n",
    "σ̂² = var(y) \n",
    "n = size(data,1)\n",
    "\n",
    "k = 2 # nombre de paramètres inconnus\n",
    "\n",
    "BIC₂ = sum( logpdf.(Normal(μ̂, sqrt(σ̂²)), y) ) - k/2*log(n)"
   ]
  },
  {
   "cell_type": "markdown",
   "metadata": {},
   "source": [
    "### Estimons le log du facteur de Bayes $B_{21}$ entre les deux modèles\n",
    "\n",
    "Puisque $\\ln B_{21} > 2$, la certitude que le modèle $M_1$ est faux par rapport au modèle $M_2$ est **décisive**."
   ]
  },
  {
   "cell_type": "code",
   "execution_count": null,
   "metadata": {},
   "outputs": [],
   "source": [
    "log_B21 = BIC₂ - BIC₁ "
   ]
  },
  {
   "cell_type": "code",
   "execution_count": null,
   "metadata": {},
   "outputs": [],
   "source": []
  },
  {
   "cell_type": "code",
   "execution_count": null,
   "metadata": {},
   "outputs": [],
   "source": []
  },
  {
   "cell_type": "code",
   "execution_count": null,
   "metadata": {},
   "outputs": [],
   "source": []
  },
  {
   "cell_type": "code",
   "execution_count": null,
   "metadata": {},
   "outputs": [],
   "source": []
  },
  {
   "cell_type": "code",
   "execution_count": null,
   "metadata": {},
   "outputs": [],
   "source": []
  }
 ],
 "metadata": {
  "@webio": {
   "lastCommId": null,
   "lastKernelId": null
  },
  "kernelspec": {
   "display_name": "Julia 1.2.0",
   "language": "julia",
   "name": "julia-1.2"
  },
  "language_info": {
   "file_extension": ".jl",
   "mimetype": "application/julia",
   "name": "julia",
   "version": "1.2.0"
  }
 },
 "nbformat": 4,
 "nbformat_minor": 2
}
