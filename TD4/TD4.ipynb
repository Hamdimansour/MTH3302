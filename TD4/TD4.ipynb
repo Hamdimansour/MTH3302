{
 "cells": [
  {
   "cell_type": "markdown",
   "metadata": {},
   "source": [
    "# MTH3302 : Méthodes probabilistes et statistiques pour l'I.A.\n",
    "\n",
    "Jonathan Jalbert<br/>\n",
    "Professeur adjoint au Département de mathématiques et de génie industriel<br/>\n",
    "Polytechnique Montréal<br/>\n",
    "\n",
    "Ce TD a été développé avec l'aide de :\n",
    "- Sanae Lofti, candidate à la maîtrise,\n",
    "- Amine Bellahsen, candidat à la maîtrise.<br/>\n",
    "\n",
    "Avant d'exécuter ce code, vous devrez récupérer les images des visages déjà partitionnées en échantillon d'apprentissage et de test. Il s'agit du fichier nommé *FacialRecognitionData.zip* disponible dans la section Jeu de données. Decrompressez le fichier dans le répertoire du notebook.\n",
    "\n",
    "Les images proviennent du jeu de données publiques *The Extended Yale Face Database B* disponible sur le site http://vision.ucsd.edu/~iskwak/ExtYaleDatabase/ExtYaleB.html.\n",
    "\n",
    "\n",
    "## TD4 : Reconnaissance faciale avec l'analyse en composantes principales\n",
    "\n",
    "\n",
    "Nous utiliserons des images récupérées de la base de données publique de Yale$^{(1)}$ que vous pouvez trouver sur Moodle. Nous avons choisi les 2 ensembles de telle sorte que l'ensemble de test contienne à la fois des images déjà vues et d'autres tout-à-fait nouvelles. L'objectif final est de mesurer la performance de notre algorithme en comptant le nombre d'exemples bien classifiés.\n",
    "\n",
    "Plusieurs librairies que nous n'utilisons pas régulièrement dans le cours sont nécessaire. Exécutez la prochaine cellule de code pour installer ces librairies."
   ]
  },
  {
   "cell_type": "code",
   "execution_count": null,
   "metadata": {},
   "outputs": [],
   "source": [
    "using Pkg\n",
    "Pkg.add([\"Images\",\"Netpbm\",\"ImageMagick\",\"QuartzImageIO\",\"Colors\"])"
   ]
  },
  {
   "cell_type": "code",
   "execution_count": null,
   "metadata": {},
   "outputs": [],
   "source": [
    "# Librairies standards du cours\n",
    "using Statistics, LinearAlgebra, Gadfly, DataFrames\n",
    "\n",
    "# Librairie pour le traitement des images\n",
    "using Images, Netpbm, ImageMagick, QuartzImageIO, Colors"
   ]
  },
  {
   "cell_type": "markdown",
   "metadata": {},
   "source": [
    "\n",
    "# 1. Chargement des images d'entraînement\n",
    "___\n",
    "\n",
    "Les images d'entraînement sont contenues dans le dossier *Train* du jeu de données que vous pouvez récupérer sur Moodle. L'ensemble d'entraînement est constitué de 784 images provenant de 28 personnes différente, soit de 28 images par personne.\n",
    "\n",
    "Les visages des images sont déjà alignés ce qui nous permet de nous concentrer sur la reconnaissance des visages.\n",
    "\n",
    "\n",
    "\n",
    "\n",
    "\n"
   ]
  },
  {
   "cell_type": "code",
   "execution_count": null,
   "metadata": {},
   "outputs": [],
   "source": [
    "# Récupération de tous les noms de fichiers de l'échantillon d'entraînement\n",
    "file = readdir(\"Train\")\n",
    "trainFileName = [\"Train/\"*file[i] for i=1:length(file)];"
   ]
  },
  {
   "cell_type": "code",
   "execution_count": null,
   "metadata": {},
   "outputs": [],
   "source": [
    "# Affichage des 8 photos de la première personne\n",
    "load.(trainFileName[1:8])"
   ]
  },
  {
   "cell_type": "code",
   "execution_count": null,
   "metadata": {},
   "outputs": [],
   "source": [
    "# Affichage des 8 photos de la huitième personne\n",
    "load.(trainFileName[29:36])"
   ]
  },
  {
   "cell_type": "code",
   "execution_count": null,
   "metadata": {},
   "outputs": [],
   "source": [
    "\"\"\"\n",
    "    imgrayconvert(imageFileName ; columnStack=true ; T=Int64)\n",
    "\n",
    "Conversion en intensité de gris de l'image du fichier `imageFileName`.\n",
    "\n",
    "### Arguments\n",
    "- `imageFileName::string` : le nom du fichier de l'image\n",
    "- `columnStack::bool=true` : Si `true`, l'image est renvoyée comme un vecteur ligne (option par défaut) sinon la fonction rencvoie la matrice des niveaux de gris.\n",
    "- `T::DataType=Int64` : Type des éléments de la matrice (Int64 par défaut).\n",
    "\n",
    "### Details\n",
    " \n",
    "La fonction retourne la matrice ou le vecteur colonne des niveaux de gris.\n",
    " \n",
    "### Examples\n",
    "\n",
    "\\```\n",
    " julia> imgrayconvert(imageFileName)\n",
    " julia> imgrayconvert(imageFileName ; columnStack=false)\n",
    " julia> imgrayconvert(imageFileName ; T=Float64)\n",
    "\\```\n",
    "\n",
    "\"\"\"\n",
    "function imgrayconvert(imageFileName::String ; columnStack::Bool=true , T::DataType = Int64 )\n",
    "    im = load(imageFileName)\n",
    "    X = convert(Array{T},channelview(im))\n",
    "    if columnStack\n",
    "        Y = X[:]\n",
    "    else\n",
    "        Y = X\n",
    "    end\n",
    "    return Y\n",
    "end"
   ]
  },
  {
   "cell_type": "code",
   "execution_count": null,
   "metadata": {},
   "outputs": [],
   "source": [
    "\"\"\"\n",
    "    imshow(X), imshow(X, im_size)\n",
    "\n",
    "Affiche une matrice ou un vecteur en une image composée de niveau de gris.\n",
    "\n",
    "### Arguments\n",
    "- `X::Array{Real}` : Une matrice ou un vecteur colonne à afficher.\n",
    "- `im_size::Tuple{Int64,Int64}` : Un tuple de Int64 indicant la taille de l'image. L'argument est nécessaire si un vecteur est envoyé.\n",
    "\n",
    "### Details\n",
    " \n",
    "L'échelle des niveaux de gris\n",
    "est ajustée en fonction des valeurs contenues dans X.\n",
    " \n",
    "### Examples\n",
    "\n",
    "\\```\n",
    " julia> imshow(X)\n",
    " julia> imshow(X, (m₁, m₂))\n",
    "\\```\n",
    "\n",
    "\"\"\"\n",
    "function imshow(X::Array{<:Real,1}, im_size::Tuple{Int64,Int64})\n",
    "    \n",
    "    # scale the eigenvector for display on grayscale\n",
    "    m = minimum(X)\n",
    "    M = maximum(X)\n",
    "    \n",
    "    Z = (X .- m) / (M-m)\n",
    "    \n",
    "    Z = reshape(Z, im_size)\n",
    "\n",
    "    Gray.(Z)\n",
    "    \n",
    "end\n",
    "\n",
    "function imshow(X::Array{<:Real,2})\n",
    "    \n",
    "    # scale the eigenvector for display on grayscale\n",
    "    m = minimum(X)\n",
    "    M = maximum(X)\n",
    "    \n",
    "    Z = (X .- m) / (M-m)\n",
    "    \n",
    "    Gray.(Z)\n",
    "    \n",
    "end"
   ]
  },
  {
   "cell_type": "code",
   "execution_count": null,
   "metadata": {},
   "outputs": [],
   "source": [
    "# Chargement des images de l'ensemble d'entrainement. Chaque image correspond à une colonne de la matrice X.\n",
    "\n",
    "n = length(trainFileName)\n",
    "\n",
    "im = imgrayconvert(trainFileName[1],columnStack=false)\n",
    "m₁, m₂ = size(im)\n",
    "m = m₁ * m₂\n",
    "\n",
    "X = Array{Float64,2}(undef,m,n)\n",
    "\n",
    "for i=1:n\n",
    "   X[:,i] = imgrayconvert(trainFileName[i], columnStack=true) \n",
    "end\n"
   ]
  },
  {
   "cell_type": "markdown",
   "metadata": {},
   "source": [
    "# 2. Analyse en composantes principales\n",
    "\n",
    "Le but de cette section est de réduire la dimension du jeu de données d'entraînement. Nous ferons donc une décomposition en valeurs singulières de l'ensemble d'entraînement.\n",
    "\n",
    "Les étapes sont les suivantes :\n",
    "1. Centrer chacune des lignes de la matrice des visages d'entraînement pour obtenir la matrice $Z$.\n",
    "2. Effectuer une décomposition en valeurs singulières de $Z$.\n",
    "3. Choisir le nombre de composantes principales requises $k$. "
   ]
  },
  {
   "cell_type": "markdown",
   "metadata": {},
   "source": [
    "### 2.1 Centrer les images de l'ensemble d'entraînement\n",
    "\n",
    "Calculer le visage moyen $\\bar{X}$ en faisait une moyenne de tous les visages pour chacun des pixels. Affichez le visage moyen avec la fonction `imshow`."
   ]
  },
  {
   "cell_type": "code",
   "execution_count": null,
   "metadata": {},
   "outputs": [],
   "source": []
  },
  {
   "cell_type": "markdown",
   "metadata": {},
   "source": [
    "Calculer la matrice $Z$ centrée des visages de l'ensemble d'entraînement. Ensuite, afficher la différence entre le visage moyen et le premier visage avec la fonction `imshow`."
   ]
  },
  {
   "cell_type": "code",
   "execution_count": null,
   "metadata": {},
   "outputs": [],
   "source": []
  },
  {
   "cell_type": "markdown",
   "metadata": {},
   "source": [
    "### 2.2 Effectuer une décomposition en valeurs singulières de $Z$.\n",
    "\n",
    "Obtenez les matrices $U$ et $V$ ainsi que les valeurs singulières à l'aide de la fonction `svd` et/ou de la fonction `svdvals`."
   ]
  },
  {
   "cell_type": "code",
   "execution_count": null,
   "metadata": {},
   "outputs": [],
   "source": []
  },
  {
   "cell_type": "markdown",
   "metadata": {},
   "source": [
    "Affichez les premiers vecteurs singuliers de $U$ avec la fonction `imshow`. Ces composantes représentent les modes de plus grande variabilité. Dans la reconnaissance faciale, elles sont appelées les *eigenfaces*."
   ]
  },
  {
   "cell_type": "code",
   "execution_count": null,
   "metadata": {},
   "outputs": [],
   "source": []
  },
  {
   "cell_type": "markdown",
   "metadata": {},
   "source": [
    "### 2.3 Choisir le nombre $k$ de composantes principales\n",
    "\n",
    "Tracez un graphique permettant de voir le pourcentage de la variance totale retenue en fonction du nombre de composantes principales."
   ]
  },
  {
   "cell_type": "code",
   "execution_count": null,
   "metadata": {},
   "outputs": [],
   "source": []
  },
  {
   "cell_type": "markdown",
   "metadata": {},
   "source": [
    "Calculez le pourcentage de la variance récupérée en utilisant 10, 50 et 70 copmosantes principales."
   ]
  },
  {
   "cell_type": "code",
   "execution_count": null,
   "metadata": {},
   "outputs": [],
   "source": []
  },
  {
   "cell_type": "markdown",
   "metadata": {},
   "source": [
    "# 3. Approximation d'une image à l'aide des composantes principales\n",
    "\n",
    "Soit $k$ le nombre de composantes principales retenues. Nous allons approximer le visage $i$ des $k$ composantes principales retenues. \n",
    "\n",
    "Dénotons par $U_k$ les $k$ premiers vecteurs propres de $U$. On cherche à trouver la combinaison linéaire des $k$ vecteurs qui approxime le visage $i$ $\\mathbf{z}_i$ :\n",
    "\n",
    "$$ \\mathbf{z}_i = U_k \\mathbf{w} ; $$\n",
    "\n",
    "où $\\mathbf{w}$ correspond au vecteur des poids de la combinaison linéaire. Le vecteur des poids $\\mathbf{w}$ peut être obtenu de la façon suivante :\n",
    "\n",
    "$$ \\mathbf{w} = U_k^\\top \\mathbf{z}_i. $$\n",
    "\n",
    "Par conséquent, le visage $i$ peut être projeté dans l'espace des $k$ premières composantes principales de la façon suivante :\n",
    "\n",
    "$$ \\mathbf{\\tilde{z}}_i = U_k \\mathbf{w} =  U_k  U_k^\\top \\mathbf{z}_i = P_k \\mathbf{z}_i ; $$\n",
    "\n",
    "où $P_k = U_k  U_k^\\top$ est la matrice de projection. De façon numérique, il est cependant plus rapide de faire la projection en deux étapes :\n",
    "1. Caluler les poids $\\mathbf{w}$.\n",
    "2. Obtenir l'approximation de l'image $\\mathbf{\\tilde{z}}_i$.\n",
    "\n"
   ]
  },
  {
   "cell_type": "markdown",
   "metadata": {},
   "source": [
    "Approximez le visage 1 à l'aide des 10 premières composantes principales et affichez l'approximation à l'aide de la fonction `imshow`."
   ]
  },
  {
   "cell_type": "code",
   "execution_count": null,
   "metadata": {},
   "outputs": [],
   "source": []
  },
  {
   "cell_type": "markdown",
   "metadata": {},
   "source": [
    "Approximez le visage 1 à l'aide des 50 premières composantes principales et affichez l'approximation à l'aide de la fonction `imshow`."
   ]
  },
  {
   "cell_type": "code",
   "execution_count": null,
   "metadata": {},
   "outputs": [],
   "source": []
  },
  {
   "cell_type": "markdown",
   "metadata": {},
   "source": [
    "Approximez le visage 1 à l'aide des 70 premières composantes principales et affichez l'approximation à l'aide de la fonction `imshow`."
   ]
  },
  {
   "cell_type": "code",
   "execution_count": null,
   "metadata": {},
   "outputs": [],
   "source": []
  },
  {
   "cell_type": "markdown",
   "metadata": {},
   "source": [
    "# 4. Reconnaissance faciale\n",
    "\n",
    "L'idée de la reconnaissance faciale consiste à comparer le vecteur poids de l'image à reconnaître avec les vecteurs poids des images de l'ensemble d'entraînement. \n",
    "\n",
    "1. Calculez les poids de toutes les images de l'ensemble d'entraînement.\n",
    "2. Calculez les poids de l'image de test.\n",
    "3. Calculez la distance entre les vecteurs poids des images d'entraînement et celui de l'image de test.\n",
    "4. Identifiez l'image de l'ensemble d'entraînement la plus proche de l'image de test.\n",
    "5. Décidez si le visage se retrouve dans l'échantillon d'entraînement ou s'il est inconnu."
   ]
  },
  {
   "cell_type": "markdown",
   "metadata": {},
   "source": [
    "### 4.1 Calculez les poids de toutes les images de l'ensemble d'entraînement\n",
    "\n",
    "Prenez pour l'instant $k = 50$ composantes."
   ]
  },
  {
   "cell_type": "code",
   "execution_count": null,
   "metadata": {},
   "outputs": [],
   "source": []
  },
  {
   "cell_type": "markdown",
   "metadata": {},
   "source": [
    "### 4.2 Calculez les poids de l'image de test\n",
    "\n",
    "Prenons d'abord la première image de l'échantillon de test. Il faut charger l'image, retirer le visage moyen et calculer les poids.\n"
   ]
  },
  {
   "cell_type": "code",
   "execution_count": null,
   "metadata": {},
   "outputs": [],
   "source": [
    "# Récupération de tous les noms de fichiers de l'échantillon d'entraînement\n",
    "file = readdir(\"Test\")\n",
    "testFileName = [\"Test/\"*file[i] for i=1:length(file)];"
   ]
  },
  {
   "cell_type": "code",
   "execution_count": null,
   "metadata": {},
   "outputs": [],
   "source": [
    "# conversion de l'image de test en intensités de gris et retrait du visage moyen\n",
    "\n",
    "j = 1  # j^e image de l'échantillon de test\n",
    "\n",
    "y = imgrayconvert(testFileName[j]) - X̄"
   ]
  },
  {
   "cell_type": "code",
   "execution_count": null,
   "metadata": {},
   "outputs": [],
   "source": [
    "# Calcul des poids de l'image de l'échantillon de test\n"
   ]
  },
  {
   "cell_type": "markdown",
   "metadata": {},
   "source": [
    "### 4.3 Calculez la distance entre les vecteurs poids des images d'entraînement et celui de l'image de test."
   ]
  },
  {
   "cell_type": "code",
   "execution_count": null,
   "metadata": {},
   "outputs": [],
   "source": []
  },
  {
   "cell_type": "markdown",
   "metadata": {},
   "source": [
    "### 4.4 Identifiez l'image de l'ensemble d'entraînement la plus proche de l'image de test."
   ]
  },
  {
   "cell_type": "code",
   "execution_count": null,
   "metadata": {},
   "outputs": [],
   "source": []
  },
  {
   "cell_type": "markdown",
   "metadata": {},
   "source": [
    "### 4.5 Décidez si le visage se retrouve dans l'échantillon d'entraînement ou s'il est inconnu.\n",
    "\n",
    "Si la distance minimale entre les poids des images d'entraînement et des poids de l'image de test, alors on statuera que le visage est inconnu. Il faut définir cependant définir ce seuil à l'aide de la validation croisée. Tentez d'utiliser le seuil de (3500)^2 et refaites les étapes du numéro 4 avec les autres images de l'ensemble de test.  "
   ]
  },
  {
   "cell_type": "code",
   "execution_count": null,
   "metadata": {},
   "outputs": [],
   "source": [
    "if minval > 3500^2\n",
    "    println(\"Le visage est inconnu.\")\n",
    "else\n",
    "    println(\"Le visage est connu.\")\n",
    "end"
   ]
  },
  {
   "cell_type": "code",
   "execution_count": null,
   "metadata": {},
   "outputs": [],
   "source": [
    "# # Récupération des noms des personnes sur les images de l'ensemble d'entraînement\n",
    "# ind1 = findfirst(isequal('/'),trainFileName[1])\n",
    "# ind2 = findfirst(isequal('_'),trainFileName[1])\n",
    "# trainPerson = [trainFileName[i][ind1+1:ind2-1] for i=1:length(trainFileName)];\n"
   ]
  },
  {
   "cell_type": "code",
   "execution_count": null,
   "metadata": {},
   "outputs": [],
   "source": []
  }
 ],
 "metadata": {
  "@webio": {
   "lastCommId": null,
   "lastKernelId": null
  },
  "kernelspec": {
   "display_name": "Julia 1.2.0",
   "language": "julia",
   "name": "julia-1.2"
  },
  "language_info": {
   "file_extension": ".jl",
   "mimetype": "application/julia",
   "name": "julia",
   "version": "1.2.0"
  }
 },
 "nbformat": 4,
 "nbformat_minor": 2
}
